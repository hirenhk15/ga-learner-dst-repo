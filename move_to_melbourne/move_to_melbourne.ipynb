{
 "cells": [
  {
   "cell_type": "code",
   "execution_count": 6,
   "metadata": {},
   "outputs": [],
   "source": [
    "import numpy as np\n",
    "import pandas as pd\n",
    "import seaborn as sns\n",
    "import matplotlib.pyplot as plt\n",
    "from sklearn.metrics import r2_score\n",
    "from sklearn.preprocessing import PolynomialFeatures\n",
    "from xgboost import XGBRegressor\n",
    "from sklearn.model_selection import train_test_split\n",
    "from sklearn.model_selection import GridSearchCV\n",
    "from sklearn.model_selection import cross_val_score\n",
    "from sklearn.linear_model import LinearRegression, Ridge, Lasso, ElasticNet\n",
    "from sklearn.tree import DecisionTreeRegressor\n",
    "from sklearn.ensemble import RandomForestRegressor\n",
    "from sklearn.preprocessing import StandardScaler, MinMaxScaler\n",
    "from sklearn.pipeline import Pipeline\n",
    "from sklearn.metrics import make_scorer, mean_squared_log_error\n",
    "\n",
    "import warnings\n",
    "warnings.filterwarnings('ignore')"
   ]
  },
  {
   "cell_type": "markdown",
   "metadata": {},
   "source": [
    "### Load the dataset\n",
    "\n",
    "- Load the train data and using all your knowledge of pandas try to explore the different statistical properties like correlation of the dataset."
   ]
  },
  {
   "cell_type": "code",
   "execution_count": 19,
   "metadata": {},
   "outputs": [
    {
     "data": {
      "text/html": [
       "<div>\n",
       "<style scoped>\n",
       "    .dataframe tbody tr th:only-of-type {\n",
       "        vertical-align: middle;\n",
       "    }\n",
       "\n",
       "    .dataframe tbody tr th {\n",
       "        vertical-align: top;\n",
       "    }\n",
       "\n",
       "    .dataframe thead th {\n",
       "        text-align: right;\n",
       "    }\n",
       "</style>\n",
       "<table border=\"1\" class=\"dataframe\">\n",
       "  <thead>\n",
       "    <tr style=\"text-align: right;\">\n",
       "      <th></th>\n",
       "      <th>Id</th>\n",
       "      <th>Rooms</th>\n",
       "      <th>Type</th>\n",
       "      <th>Price</th>\n",
       "      <th>Method</th>\n",
       "      <th>SellerG</th>\n",
       "      <th>Distance</th>\n",
       "      <th>Postcode</th>\n",
       "      <th>Bathroom</th>\n",
       "      <th>Car</th>\n",
       "      <th>Landsize</th>\n",
       "      <th>BuildingArea</th>\n",
       "      <th>YearBuilt</th>\n",
       "      <th>CouncilArea</th>\n",
       "      <th>Longtitude</th>\n",
       "      <th>Regionname</th>\n",
       "      <th>Propertycount</th>\n",
       "    </tr>\n",
       "  </thead>\n",
       "  <tbody>\n",
       "    <tr>\n",
       "      <th>0</th>\n",
       "      <td>124</td>\n",
       "      <td>3</td>\n",
       "      <td>2</td>\n",
       "      <td>995000</td>\n",
       "      <td>1</td>\n",
       "      <td>135</td>\n",
       "      <td>6.3</td>\n",
       "      <td>3143</td>\n",
       "      <td>2</td>\n",
       "      <td>2</td>\n",
       "      <td>0</td>\n",
       "      <td>100.0</td>\n",
       "      <td>1998</td>\n",
       "      <td>26</td>\n",
       "      <td>145.01600</td>\n",
       "      <td>5</td>\n",
       "      <td>4836</td>\n",
       "    </tr>\n",
       "    <tr>\n",
       "      <th>1</th>\n",
       "      <td>5905</td>\n",
       "      <td>2</td>\n",
       "      <td>0</td>\n",
       "      <td>1080000</td>\n",
       "      <td>1</td>\n",
       "      <td>155</td>\n",
       "      <td>2.0</td>\n",
       "      <td>3066</td>\n",
       "      <td>1</td>\n",
       "      <td>0</td>\n",
       "      <td>0</td>\n",
       "      <td>94.0</td>\n",
       "      <td>1890</td>\n",
       "      <td>31</td>\n",
       "      <td>144.98863</td>\n",
       "      <td>2</td>\n",
       "      <td>4553</td>\n",
       "    </tr>\n",
       "    <tr>\n",
       "      <th>2</th>\n",
       "      <td>5963</td>\n",
       "      <td>3</td>\n",
       "      <td>0</td>\n",
       "      <td>725000</td>\n",
       "      <td>1</td>\n",
       "      <td>196</td>\n",
       "      <td>17.9</td>\n",
       "      <td>3082</td>\n",
       "      <td>2</td>\n",
       "      <td>2</td>\n",
       "      <td>602</td>\n",
       "      <td>129.0</td>\n",
       "      <td>1980</td>\n",
       "      <td>29</td>\n",
       "      <td>145.06912</td>\n",
       "      <td>2</td>\n",
       "      <td>10529</td>\n",
       "    </tr>\n",
       "    <tr>\n",
       "      <th>3</th>\n",
       "      <td>3521</td>\n",
       "      <td>4</td>\n",
       "      <td>0</td>\n",
       "      <td>1330000</td>\n",
       "      <td>1</td>\n",
       "      <td>251</td>\n",
       "      <td>8.0</td>\n",
       "      <td>3016</td>\n",
       "      <td>3</td>\n",
       "      <td>2</td>\n",
       "      <td>217</td>\n",
       "      <td>266.0</td>\n",
       "      <td>2003</td>\n",
       "      <td>10</td>\n",
       "      <td>144.87960</td>\n",
       "      <td>6</td>\n",
       "      <td>6380</td>\n",
       "    </tr>\n",
       "    <tr>\n",
       "      <th>4</th>\n",
       "      <td>3738</td>\n",
       "      <td>3</td>\n",
       "      <td>0</td>\n",
       "      <td>620000</td>\n",
       "      <td>1</td>\n",
       "      <td>221</td>\n",
       "      <td>12.4</td>\n",
       "      <td>3060</td>\n",
       "      <td>1</td>\n",
       "      <td>2</td>\n",
       "      <td>604</td>\n",
       "      <td>190.0</td>\n",
       "      <td>1970</td>\n",
       "      <td>23</td>\n",
       "      <td>144.96860</td>\n",
       "      <td>2</td>\n",
       "      <td>5070</td>\n",
       "    </tr>\n",
       "  </tbody>\n",
       "</table>\n",
       "</div>"
      ],
      "text/plain": [
       "     Id  Rooms  Type    Price  Method  SellerG  Distance  Postcode  Bathroom  \\\n",
       "0   124      3     2   995000       1      135       6.3      3143         2   \n",
       "1  5905      2     0  1080000       1      155       2.0      3066         1   \n",
       "2  5963      3     0   725000       1      196      17.9      3082         2   \n",
       "3  3521      4     0  1330000       1      251       8.0      3016         3   \n",
       "4  3738      3     0   620000       1      221      12.4      3060         1   \n",
       "\n",
       "   Car  Landsize  BuildingArea  YearBuilt  CouncilArea  Longtitude  \\\n",
       "0    2         0         100.0       1998           26   145.01600   \n",
       "1    0         0          94.0       1890           31   144.98863   \n",
       "2    2       602         129.0       1980           29   145.06912   \n",
       "3    2       217         266.0       2003           10   144.87960   \n",
       "4    2       604         190.0       1970           23   144.96860   \n",
       "\n",
       "   Regionname  Propertycount  \n",
       "0           5           4836  \n",
       "1           2           4553  \n",
       "2           2          10529  \n",
       "3           6           6380  \n",
       "4           2           5070  "
      ]
     },
     "execution_count": 19,
     "metadata": {},
     "output_type": "execute_result"
    }
   ],
   "source": [
    "data = pd.read_csv('./train.csv')\n",
    "data.head()"
   ]
  },
  {
   "cell_type": "code",
   "execution_count": 20,
   "metadata": {},
   "outputs": [
    {
     "name": "stdout",
     "output_type": "stream",
     "text": [
      "<class 'pandas.core.frame.DataFrame'>\n",
      "RangeIndex: 4781 entries, 0 to 4780\n",
      "Data columns (total 17 columns):\n",
      " #   Column         Non-Null Count  Dtype  \n",
      "---  ------         --------------  -----  \n",
      " 0   Id             4781 non-null   int64  \n",
      " 1   Rooms          4781 non-null   int64  \n",
      " 2   Type           4781 non-null   int64  \n",
      " 3   Price          4781 non-null   int64  \n",
      " 4   Method         4781 non-null   int64  \n",
      " 5   SellerG        4781 non-null   int64  \n",
      " 6   Distance       4781 non-null   float64\n",
      " 7   Postcode       4781 non-null   int64  \n",
      " 8   Bathroom       4781 non-null   int64  \n",
      " 9   Car            4781 non-null   int64  \n",
      " 10  Landsize       4781 non-null   int64  \n",
      " 11  BuildingArea   4781 non-null   float64\n",
      " 12  YearBuilt      4781 non-null   int64  \n",
      " 13  CouncilArea    4781 non-null   int64  \n",
      " 14  Longtitude     4781 non-null   float64\n",
      " 15  Regionname     4781 non-null   int64  \n",
      " 16  Propertycount  4781 non-null   int64  \n",
      "dtypes: float64(3), int64(14)\n",
      "memory usage: 635.1 KB\n"
     ]
    }
   ],
   "source": [
    "data.info()"
   ]
  },
  {
   "cell_type": "markdown",
   "metadata": {},
   "source": [
    "## Model building\n",
    "\n",
    "- Separate the features and target and then split the train data into train and validation set.\n",
    "- Apply different models of your choice and  then predict on the validation data and find the `r2_score` for this prediction.\n",
    "- Try improving upon the `r2_score` using different regularization techniques."
   ]
  },
  {
   "cell_type": "code",
   "execution_count": 29,
   "metadata": {},
   "outputs": [
    {
     "name": "stdout",
     "output_type": "stream",
     "text": [
      "(3824, 16) (957, 16)\n"
     ]
    }
   ],
   "source": [
    "X = data.drop('Price', axis=1)\n",
    "y = data['Price']\n",
    "\n",
    "X_train, X_val, y_train, y_val = train_test_split(X, y, test_size=0.2, random_state=0)\n",
    "print(X_train.shape, X_val.shape)"
   ]
  },
  {
   "cell_type": "code",
   "execution_count": 30,
   "metadata": {},
   "outputs": [],
   "source": [
    "pipeline = Pipeline([\n",
    "    ('scaling', 'passthrough'),\n",
    "    ('model', 'passthrough')\n",
    "])\n",
    "\n",
    "param_grid = {\n",
    "    'scaling': [StandardScaler(), MinMaxScaler()],\n",
    "    'model': [LinearRegression(), Ridge(), Lasso(), ElasticNet(), XGBRegressor(), RandomForestRegressor()]\n",
    "}\n",
    "\n",
    "grid = GridSearchCV(pipeline, param_grid=param_grid, cv=5, n_jobs=-1, scoring='r2')"
   ]
  },
  {
   "cell_type": "code",
   "execution_count": 31,
   "metadata": {},
   "outputs": [
    {
     "data": {
      "text/plain": [
       "GridSearchCV(cv=5,\n",
       "             estimator=Pipeline(steps=[('scaling', 'passthrough'),\n",
       "                                       ('model', 'passthrough')]),\n",
       "             n_jobs=-1,\n",
       "             param_grid={'model': [LinearRegression(), Ridge(), Lasso(),\n",
       "                                   ElasticNet(),\n",
       "                                   XGBRegressor(base_score=None, booster=None,\n",
       "                                                colsample_bylevel=None,\n",
       "                                                colsample_bynode=None,\n",
       "                                                colsample_bytree=None,\n",
       "                                                gamma=None, gpu_id=None,\n",
       "                                                importance_type='gain',\n",
       "                                                interaction_constrai...\n",
       "                                                max_depth=None,\n",
       "                                                min_child_weight=None,\n",
       "                                                missing=nan,\n",
       "                                                monotone_constraints=None,\n",
       "                                                n_estimators=100, n_jobs=None,\n",
       "                                                num_parallel_tree=None,\n",
       "                                                random_state=None,\n",
       "                                                reg_alpha=None, reg_lambda=None,\n",
       "                                                scale_pos_weight=None,\n",
       "                                                subsample=None,\n",
       "                                                tree_method=None,\n",
       "                                                validate_parameters=None,\n",
       "                                                verbosity=None),\n",
       "                                   RandomForestRegressor()],\n",
       "                         'scaling': [StandardScaler(), MinMaxScaler()]},\n",
       "             scoring='r2')"
      ]
     },
     "execution_count": 31,
     "metadata": {},
     "output_type": "execute_result"
    }
   ],
   "source": [
    "grid.fit(X_train, y_train)"
   ]
  },
  {
   "cell_type": "code",
   "execution_count": 32,
   "metadata": {},
   "outputs": [
    {
     "data": {
      "text/plain": [
       "Pipeline(steps=[('scaling', MinMaxScaler()),\n",
       "                ('model',\n",
       "                 XGBRegressor(base_score=0.5, booster='gbtree',\n",
       "                              colsample_bylevel=1, colsample_bynode=1,\n",
       "                              colsample_bytree=1, gamma=0, gpu_id=-1,\n",
       "                              importance_type='gain',\n",
       "                              interaction_constraints='',\n",
       "                              learning_rate=0.300000012, max_delta_step=0,\n",
       "                              max_depth=6, min_child_weight=1, missing=nan,\n",
       "                              monotone_constraints='()', n_estimators=100,\n",
       "                              n_jobs=4, num_parallel_tree=1, random_state=0,\n",
       "                              reg_alpha=0, reg_lambda=1, scale_pos_weight=1,\n",
       "                              subsample=1, tree_method='exact',\n",
       "                              validate_parameters=1, verbosity=None))])"
      ]
     },
     "execution_count": 32,
     "metadata": {},
     "output_type": "execute_result"
    }
   ],
   "source": [
    "grid.best_estimator_"
   ]
  },
  {
   "cell_type": "code",
   "execution_count": 33,
   "metadata": {},
   "outputs": [
    {
     "name": "stdout",
     "output_type": "stream",
     "text": [
      "Training R2 score:  0.9888581620665506\n",
      "Validation R2 score:  0.7234073892093575\n"
     ]
    }
   ],
   "source": [
    "y_pred = grid.best_estimator_.predict(X_val)\n",
    "\n",
    "# Evaluate the R2 Score\n",
    "print('Training R2 score: ', r2_score(y_train, grid.best_estimator_.predict(X_train)))\n",
    "print('Validation R2 score: ', r2_score(y_val, y_pred))"
   ]
  },
  {
   "cell_type": "code",
   "execution_count": 34,
   "metadata": {},
   "outputs": [
    {
     "data": {
      "image/png": "[encoded data removed]",
      "text/plain": [
       "<Figure size 432x288 with 1 Axes>"
      ]
     },
     "metadata": {
      "needs_background": "light"
     },
     "output_type": "display_data"
    }
   ],
   "source": [
    "sns.distplot(y_val-y_pred)\n",
    "plt.show()"
   ]
  },
  {
   "cell_type": "code",
   "execution_count": 35,
   "metadata": {},
   "outputs": [
    {
     "data": {
      "image/png": "[encoded data removed]",
      "text/plain": [
       "<Figure size 432x288 with 1 Axes>"
      ]
     },
     "metadata": {
      "needs_background": "light"
     },
     "output_type": "display_data"
    }
   ],
   "source": [
    "plt.scatter(y_val, y_pred, alpha = 0.5)\n",
    "plt.xlabel(\"y_val\")\n",
    "plt.ylabel(\"y_pred\")\n",
    "plt.show()"
   ]
  },
  {
   "cell_type": "code",
   "execution_count": 36,
   "metadata": {},
   "outputs": [
    {
     "name": "stdout",
     "output_type": "stream",
     "text": [
      "Training R2 score:  0.9888581620665506\n",
      "Validation R2 score:  0.7265855687478722\n"
     ]
    }
   ],
   "source": [
    "rfr = RandomForestRegressor(bootstrap=True, criterion='mse', max_depth=40,\n",
    "           max_features='sqrt', max_leaf_nodes=None,\n",
    "           min_impurity_decrease=0.0, min_impurity_split=None,\n",
    "           min_samples_leaf=2, min_samples_split=5,\n",
    "           min_weight_fraction_leaf=0.0, n_estimators=1500, n_jobs=1,\n",
    "           oob_score=False, random_state=0, verbose=0, warm_start=False)\n",
    "\n",
    "rfr.fit(X_train, y_train)\n",
    "\n",
    "y_pred = rfr.predict(X_val)\n",
    "\n",
    "# Evaluate the R2 Score\n",
    "print('Training R2 score: ', r2_score(y_train, grid.best_estimator_.predict(X_train)))\n",
    "print('Validation R2 score: ', r2_score(y_val, y_pred))"
   ]
  },
  {
   "cell_type": "markdown",
   "metadata": {},
   "source": [
    "### Prediction on the test data and creating the sample submission file.\n",
    "\n",
    "- Load the test data and store the `Id` column in a separate variable.\n",
    "- Perform the same operations on the test data that you have performed on the train data.\n",
    "- Create the submission file as a `csv` file consisting of the `Id` column from the test data and your prediction as the second column."
   ]
  },
  {
   "cell_type": "code",
   "execution_count": 37,
   "metadata": {},
   "outputs": [
    {
     "data": {
      "text/html": [
       "<div>\n",
       "<style scoped>\n",
       "    .dataframe tbody tr th:only-of-type {\n",
       "        vertical-align: middle;\n",
       "    }\n",
       "\n",
       "    .dataframe tbody tr th {\n",
       "        vertical-align: top;\n",
       "    }\n",
       "\n",
       "    .dataframe thead th {\n",
       "        text-align: right;\n",
       "    }\n",
       "</style>\n",
       "<table border=\"1\" class=\"dataframe\">\n",
       "  <thead>\n",
       "    <tr style=\"text-align: right;\">\n",
       "      <th></th>\n",
       "      <th>Id</th>\n",
       "      <th>Rooms</th>\n",
       "      <th>Type</th>\n",
       "      <th>Method</th>\n",
       "      <th>SellerG</th>\n",
       "      <th>Distance</th>\n",
       "      <th>Postcode</th>\n",
       "      <th>Bathroom</th>\n",
       "      <th>Car</th>\n",
       "      <th>Landsize</th>\n",
       "      <th>BuildingArea</th>\n",
       "      <th>YearBuilt</th>\n",
       "      <th>CouncilArea</th>\n",
       "      <th>Longtitude</th>\n",
       "      <th>Regionname</th>\n",
       "      <th>Propertycount</th>\n",
       "    </tr>\n",
       "  </thead>\n",
       "  <tbody>\n",
       "    <tr>\n",
       "      <th>0</th>\n",
       "      <td>5067</td>\n",
       "      <td>4</td>\n",
       "      <td>0</td>\n",
       "      <td>1</td>\n",
       "      <td>32</td>\n",
       "      <td>27.0</td>\n",
       "      <td>3196</td>\n",
       "      <td>2</td>\n",
       "      <td>2</td>\n",
       "      <td>536</td>\n",
       "      <td>202.0</td>\n",
       "      <td>1985</td>\n",
       "      <td>12</td>\n",
       "      <td>145.13286</td>\n",
       "      <td>4</td>\n",
       "      <td>2076</td>\n",
       "    </tr>\n",
       "    <tr>\n",
       "      <th>1</th>\n",
       "      <td>3722</td>\n",
       "      <td>4</td>\n",
       "      <td>0</td>\n",
       "      <td>1</td>\n",
       "      <td>28</td>\n",
       "      <td>12.4</td>\n",
       "      <td>3060</td>\n",
       "      <td>2</td>\n",
       "      <td>2</td>\n",
       "      <td>567</td>\n",
       "      <td>116.0</td>\n",
       "      <td>1950</td>\n",
       "      <td>23</td>\n",
       "      <td>144.97030</td>\n",
       "      <td>2</td>\n",
       "      <td>5070</td>\n",
       "    </tr>\n",
       "    <tr>\n",
       "      <th>2</th>\n",
       "      <td>6820</td>\n",
       "      <td>5</td>\n",
       "      <td>0</td>\n",
       "      <td>1</td>\n",
       "      <td>16</td>\n",
       "      <td>12.4</td>\n",
       "      <td>3107</td>\n",
       "      <td>3</td>\n",
       "      <td>2</td>\n",
       "      <td>717</td>\n",
       "      <td>310.0</td>\n",
       "      <td>1963</td>\n",
       "      <td>-1</td>\n",
       "      <td>145.11320</td>\n",
       "      <td>0</td>\n",
       "      <td>5420</td>\n",
       "    </tr>\n",
       "    <tr>\n",
       "      <th>3</th>\n",
       "      <td>3103</td>\n",
       "      <td>2</td>\n",
       "      <td>2</td>\n",
       "      <td>1</td>\n",
       "      <td>196</td>\n",
       "      <td>3.3</td>\n",
       "      <td>3141</td>\n",
       "      <td>1</td>\n",
       "      <td>1</td>\n",
       "      <td>0</td>\n",
       "      <td>61.0</td>\n",
       "      <td>1965</td>\n",
       "      <td>26</td>\n",
       "      <td>144.98860</td>\n",
       "      <td>5</td>\n",
       "      <td>14887</td>\n",
       "    </tr>\n",
       "    <tr>\n",
       "      <th>4</th>\n",
       "      <td>2820</td>\n",
       "      <td>3</td>\n",
       "      <td>0</td>\n",
       "      <td>1</td>\n",
       "      <td>16</td>\n",
       "      <td>11.2</td>\n",
       "      <td>3073</td>\n",
       "      <td>2</td>\n",
       "      <td>1</td>\n",
       "      <td>618</td>\n",
       "      <td>149.0</td>\n",
       "      <td>1965</td>\n",
       "      <td>6</td>\n",
       "      <td>145.02120</td>\n",
       "      <td>2</td>\n",
       "      <td>21650</td>\n",
       "    </tr>\n",
       "  </tbody>\n",
       "</table>\n",
       "</div>"
      ],
      "text/plain": [
       "     Id  Rooms  Type  Method  SellerG  Distance  Postcode  Bathroom  Car  \\\n",
       "0  5067      4     0       1       32      27.0      3196         2    2   \n",
       "1  3722      4     0       1       28      12.4      3060         2    2   \n",
       "2  6820      5     0       1       16      12.4      3107         3    2   \n",
       "3  3103      2     2       1      196       3.3      3141         1    1   \n",
       "4  2820      3     0       1       16      11.2      3073         2    1   \n",
       "\n",
       "   Landsize  BuildingArea  YearBuilt  CouncilArea  Longtitude  Regionname  \\\n",
       "0       536         202.0       1985           12   145.13286           4   \n",
       "1       567         116.0       1950           23   144.97030           2   \n",
       "2       717         310.0       1963           -1   145.11320           0   \n",
       "3         0          61.0       1965           26   144.98860           5   \n",
       "4       618         149.0       1965            6   145.02120           2   \n",
       "\n",
       "   Propertycount  \n",
       "0           2076  \n",
       "1           5070  \n",
       "2           5420  \n",
       "3          14887  \n",
       "4          21650  "
      ]
     },
     "execution_count": 37,
     "metadata": {},
     "output_type": "execute_result"
    }
   ],
   "source": [
    "df_test = pd.read_csv('./test.csv')\n",
    "df_test.head()"
   ]
  },
  {
   "cell_type": "code",
   "execution_count": 38,
   "metadata": {},
   "outputs": [
    {
     "data": {
      "text/html": [
       "<div>\n",
       "<style scoped>\n",
       "    .dataframe tbody tr th:only-of-type {\n",
       "        vertical-align: middle;\n",
       "    }\n",
       "\n",
       "    .dataframe tbody tr th {\n",
       "        vertical-align: top;\n",
       "    }\n",
       "\n",
       "    .dataframe thead th {\n",
       "        text-align: right;\n",
       "    }\n",
       "</style>\n",
       "<table border=\"1\" class=\"dataframe\">\n",
       "  <thead>\n",
       "    <tr style=\"text-align: right;\">\n",
       "      <th></th>\n",
       "      <th>Id</th>\n",
       "      <th>Price</th>\n",
       "    </tr>\n",
       "  </thead>\n",
       "  <tbody>\n",
       "    <tr>\n",
       "      <th>0</th>\n",
       "      <td>5067</td>\n",
       "      <td>9.527490e+05</td>\n",
       "    </tr>\n",
       "    <tr>\n",
       "      <th>1</th>\n",
       "      <td>3722</td>\n",
       "      <td>7.704872e+05</td>\n",
       "    </tr>\n",
       "    <tr>\n",
       "      <th>2</th>\n",
       "      <td>6820</td>\n",
       "      <td>1.703854e+06</td>\n",
       "    </tr>\n",
       "    <tr>\n",
       "      <th>3</th>\n",
       "      <td>3103</td>\n",
       "      <td>5.348590e+05</td>\n",
       "    </tr>\n",
       "    <tr>\n",
       "      <th>4</th>\n",
       "      <td>2820</td>\n",
       "      <td>7.732657e+05</td>\n",
       "    </tr>\n",
       "  </tbody>\n",
       "</table>\n",
       "</div>"
      ],
      "text/plain": [
       "     Id         Price\n",
       "0  5067  9.527490e+05\n",
       "1  3722  7.704872e+05\n",
       "2  6820  1.703854e+06\n",
       "3  3103  5.348590e+05\n",
       "4  2820  7.732657e+05"
      ]
     },
     "execution_count": 38,
     "metadata": {},
     "output_type": "execute_result"
    }
   ],
   "source": [
    "#y_pred = grid.best_estimator_.predict(df_test)\n",
    "#y_pred = rfr.predict(df_test)\n",
    "y_pred = rfr.predict(df_test)\n",
    "\n",
    "# Prepare dataframe with ID and target column\n",
    "sumbission_df = pd.DataFrame()\n",
    "sumbission_df['Id'] = df_test['Id']\n",
    "sumbission_df['Price'] = y_pred\n",
    "sumbission_df.head()"
   ]
  },
  {
   "cell_type": "code",
   "execution_count": 39,
   "metadata": {},
   "outputs": [],
   "source": [
    "# Write Final predictions\n",
    "sumbission_df.to_csv(\"./submission.csv\", index=False)"
   ]
  },
  {
   "cell_type": "code",
   "execution_count": null,
   "metadata": {},
   "outputs": [],
   "source": []
  }
 ],
 "metadata": {
  "kernelspec": {
   "display_name": "Python 3",
   "language": "python",
   "name": "python3"
  },
  "language_info": {
   "codemirror_mode": {
    "name": "ipython",
    "version": 3
   },
   "file_extension": ".py",
   "mimetype": "text/x-python",
   "name": "python",
   "nbconvert_exporter": "python",
   "pygments_lexer": "ipython3",
   "version": "3.8.5"
  },
  "toc": {
   "base_numbering": 1,
   "nav_menu": {},
   "number_sections": true,
   "sideBar": true,
   "skip_h1_title": false,
   "title_cell": "Table of Contents",
   "title_sidebar": "Contents",
   "toc_cell": false,
   "toc_position": {},
   "toc_section_display": true,
   "toc_window_display": false
  }
 },
 "nbformat": 4,
 "nbformat_minor": 2
}
