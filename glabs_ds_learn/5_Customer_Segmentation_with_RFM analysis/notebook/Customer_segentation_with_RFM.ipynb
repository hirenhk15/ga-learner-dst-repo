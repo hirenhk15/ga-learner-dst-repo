{
 "cells": [
  {
   "cell_type": "markdown",
   "metadata": {},
   "source": [
    "# Customer Segmentation using RFM analysis\n",
    "\n",
    "This is a transnational data set which contains all the transactions occurring between 01/12/2010 and 09/12/2011 for a UK-based and registered non-store online retail.The company mainly sells unique all-occasion gifts. Many customers of the company are wholesalers.\n",
    "\n",
    "We will create cutomer segments as per the Recency,Frequency and Monetary analysis by analyzing the data to know our customer base. This knowlwdge can then be used to target customers to retain customers, pitch offers etc"
   ]
  },
  {
   "cell_type": "markdown",
   "metadata": {},
   "source": [
    "### Dataset Information:\n",
    "\n",
    " - **InvoiceNo:** Invoice number. Nominal, a 6-digit integral number uniquely assigned to each transaction. If this code starts with letter 'c', it indicates a cancellation.\n",
    " - **StockCode:** Product (item) code. Nominal, a 5-digit integral number uniquely assigned to each distinct product.\n",
    " - **Description:** Product (item) name. Nominal.\n",
    " - **Quantity:** The quantities of each product (item) per transaction. Numeric.\n",
    " - **InvoiceDate:** Invice Date and time. Numeric, the day and time when each transaction was generated.\n",
    " - **UnitPrice:** Unit price. Numeric, Product price per unit in sterling.\n",
    " - **CustomerID:** Customer number. Nominal, a 5-digit integral number uniquely assigned to each customer.\n",
    " - **Country:** Country name. Nominal, the name of the country where each customer resides.\n",
    " \n",
    "**Source:** [Dataset](https://archive.ics.uci.edu/ml/datasets/online+retail)"
   ]
  },
  {
   "cell_type": "markdown",
   "metadata": {},
   "source": [
    "### Importing Libraries"
   ]
  },
  {
   "cell_type": "code",
   "execution_count": 1,
   "metadata": {},
   "outputs": [],
   "source": [
    "import numpy as np\n",
    "import pandas as pd\n",
    "import time, warnings\n",
    "import datetime as dt\n",
    "import matplotlib.pyplot as plt\n",
    "from pandas.plotting import scatter_matrix\n",
    "\n",
    "%matplotlib inline\n",
    "import seaborn as sns\n",
    "\n",
    "warnings.filterwarnings(\"ignore\")"
   ]
  },
  {
   "cell_type": "markdown",
   "metadata": {},
   "source": [
    "### Read the data"
   ]
  },
  {
   "cell_type": "code",
   "execution_count": 2,
   "metadata": {
    "scrolled": true
   },
   "outputs": [
    {
     "data": {
      "text/html": [
       "<div>\n",
       "<style scoped>\n",
       "    .dataframe tbody tr th:only-of-type {\n",
       "        vertical-align: middle;\n",
       "    }\n",
       "\n",
       "    .dataframe tbody tr th {\n",
       "        vertical-align: top;\n",
       "    }\n",
       "\n",
       "    .dataframe thead th {\n",
       "        text-align: right;\n",
       "    }\n",
       "</style>\n",
       "<table border=\"1\" class=\"dataframe\">\n",
       "  <thead>\n",
       "    <tr style=\"text-align: right;\">\n",
       "      <th></th>\n",
       "      <th>InvoiceNo</th>\n",
       "      <th>StockCode</th>\n",
       "      <th>Description</th>\n",
       "      <th>Quantity</th>\n",
       "      <th>InvoiceDate</th>\n",
       "      <th>UnitPrice</th>\n",
       "      <th>CustomerID</th>\n",
       "      <th>Country</th>\n",
       "    </tr>\n",
       "  </thead>\n",
       "  <tbody>\n",
       "    <tr>\n",
       "      <th>0</th>\n",
       "      <td>545220</td>\n",
       "      <td>21955</td>\n",
       "      <td>DOORMAT UNION JACK GUNS AND ROSES</td>\n",
       "      <td>2</td>\n",
       "      <td>3/1/2011 8:30</td>\n",
       "      <td>7.95</td>\n",
       "      <td>14620.0</td>\n",
       "      <td>United Kingdom</td>\n",
       "    </tr>\n",
       "    <tr>\n",
       "      <th>1</th>\n",
       "      <td>545220</td>\n",
       "      <td>48194</td>\n",
       "      <td>DOORMAT HEARTS</td>\n",
       "      <td>2</td>\n",
       "      <td>3/1/2011 8:30</td>\n",
       "      <td>7.95</td>\n",
       "      <td>14620.0</td>\n",
       "      <td>United Kingdom</td>\n",
       "    </tr>\n",
       "    <tr>\n",
       "      <th>2</th>\n",
       "      <td>545220</td>\n",
       "      <td>22556</td>\n",
       "      <td>PLASTERS IN TIN CIRCUS PARADE</td>\n",
       "      <td>12</td>\n",
       "      <td>3/1/2011 8:30</td>\n",
       "      <td>1.65</td>\n",
       "      <td>14620.0</td>\n",
       "      <td>United Kingdom</td>\n",
       "    </tr>\n",
       "    <tr>\n",
       "      <th>3</th>\n",
       "      <td>545220</td>\n",
       "      <td>22139</td>\n",
       "      <td>RETROSPOT TEA SET CERAMIC 11 PC</td>\n",
       "      <td>3</td>\n",
       "      <td>3/1/2011 8:30</td>\n",
       "      <td>4.95</td>\n",
       "      <td>14620.0</td>\n",
       "      <td>United Kingdom</td>\n",
       "    </tr>\n",
       "    <tr>\n",
       "      <th>4</th>\n",
       "      <td>545220</td>\n",
       "      <td>84029G</td>\n",
       "      <td>KNITTED UNION FLAG HOT WATER BOTTLE</td>\n",
       "      <td>4</td>\n",
       "      <td>3/1/2011 8:30</td>\n",
       "      <td>3.75</td>\n",
       "      <td>14620.0</td>\n",
       "      <td>United Kingdom</td>\n",
       "    </tr>\n",
       "  </tbody>\n",
       "</table>\n",
       "</div>"
      ],
      "text/plain": [
       "  InvoiceNo StockCode                          Description  Quantity  \\\n",
       "0    545220     21955    DOORMAT UNION JACK GUNS AND ROSES         2   \n",
       "1    545220     48194                       DOORMAT HEARTS         2   \n",
       "2    545220     22556       PLASTERS IN TIN CIRCUS PARADE         12   \n",
       "3    545220     22139     RETROSPOT TEA SET CERAMIC 11 PC          3   \n",
       "4    545220    84029G  KNITTED UNION FLAG HOT WATER BOTTLE         4   \n",
       "\n",
       "     InvoiceDate  UnitPrice  CustomerID         Country  \n",
       "0  3/1/2011 8:30       7.95     14620.0  United Kingdom  \n",
       "1  3/1/2011 8:30       7.95     14620.0  United Kingdom  \n",
       "2  3/1/2011 8:30       1.65     14620.0  United Kingdom  \n",
       "3  3/1/2011 8:30       4.95     14620.0  United Kingdom  \n",
       "4  3/1/2011 8:30       3.75     14620.0  United Kingdom  "
      ]
     },
     "execution_count": 2,
     "metadata": {},
     "output_type": "execute_result"
    }
   ],
   "source": [
    "data = pd.read_csv('../data/commercial_data.csv')\n",
    "data.head()"
   ]
  },
  {
   "cell_type": "code",
   "execution_count": 3,
   "metadata": {},
   "outputs": [
    {
     "name": "stdout",
     "output_type": "stream",
     "text": [
      "<class 'pandas.core.frame.DataFrame'>\n",
      "RangeIndex: 236079 entries, 0 to 236078\n",
      "Data columns (total 8 columns):\n",
      " #   Column       Non-Null Count   Dtype  \n",
      "---  ------       --------------   -----  \n",
      " 0   InvoiceNo    236079 non-null  object \n",
      " 1   StockCode    236079 non-null  object \n",
      " 2   Description  235729 non-null  object \n",
      " 3   Quantity     236079 non-null  int64  \n",
      " 4   InvoiceDate  236079 non-null  object \n",
      " 5   UnitPrice    236079 non-null  float64\n",
      " 6   CustomerID   176137 non-null  float64\n",
      " 7   Country      236079 non-null  object \n",
      "dtypes: float64(2), int64(1), object(5)\n",
      "memory usage: 9.9+ MB\n"
     ]
    }
   ],
   "source": [
    "data.info()"
   ]
  },
  {
   "cell_type": "code",
   "execution_count": 4,
   "metadata": {},
   "outputs": [
    {
     "data": {
      "text/html": [
       "<div>\n",
       "<style scoped>\n",
       "    .dataframe tbody tr th:only-of-type {\n",
       "        vertical-align: middle;\n",
       "    }\n",
       "\n",
       "    .dataframe tbody tr th {\n",
       "        vertical-align: top;\n",
       "    }\n",
       "\n",
       "    .dataframe thead th {\n",
       "        text-align: right;\n",
       "    }\n",
       "</style>\n",
       "<table border=\"1\" class=\"dataframe\">\n",
       "  <thead>\n",
       "    <tr style=\"text-align: right;\">\n",
       "      <th></th>\n",
       "      <th>InvoiceNo</th>\n",
       "      <th>StockCode</th>\n",
       "      <th>Description</th>\n",
       "      <th>Quantity</th>\n",
       "      <th>InvoiceDate</th>\n",
       "      <th>UnitPrice</th>\n",
       "      <th>CustomerID</th>\n",
       "      <th>Country</th>\n",
       "    </tr>\n",
       "  </thead>\n",
       "  <tbody>\n",
       "    <tr>\n",
       "      <th>173363</th>\n",
       "      <td>A563185</td>\n",
       "      <td>B</td>\n",
       "      <td>Adjust bad debt</td>\n",
       "      <td>1</td>\n",
       "      <td>8/12/2011 14:50</td>\n",
       "      <td>11062.06</td>\n",
       "      <td>NaN</td>\n",
       "      <td>United Kingdom</td>\n",
       "    </tr>\n",
       "    <tr>\n",
       "      <th>173364</th>\n",
       "      <td>A563186</td>\n",
       "      <td>B</td>\n",
       "      <td>Adjust bad debt</td>\n",
       "      <td>1</td>\n",
       "      <td>8/12/2011 14:51</td>\n",
       "      <td>-11062.06</td>\n",
       "      <td>NaN</td>\n",
       "      <td>United Kingdom</td>\n",
       "    </tr>\n",
       "    <tr>\n",
       "      <th>173365</th>\n",
       "      <td>A563187</td>\n",
       "      <td>B</td>\n",
       "      <td>Adjust bad debt</td>\n",
       "      <td>1</td>\n",
       "      <td>8/12/2011 14:52</td>\n",
       "      <td>-11062.06</td>\n",
       "      <td>NaN</td>\n",
       "      <td>United Kingdom</td>\n",
       "    </tr>\n",
       "  </tbody>\n",
       "</table>\n",
       "</div>"
      ],
      "text/plain": [
       "       InvoiceNo StockCode      Description  Quantity      InvoiceDate  \\\n",
       "173363   A563185         B  Adjust bad debt         1  8/12/2011 14:50   \n",
       "173364   A563186         B  Adjust bad debt         1  8/12/2011 14:51   \n",
       "173365   A563187         B  Adjust bad debt         1  8/12/2011 14:52   \n",
       "\n",
       "        UnitPrice  CustomerID         Country  \n",
       "173363   11062.06         NaN  United Kingdom  \n",
       "173364  -11062.06         NaN  United Kingdom  \n",
       "173365  -11062.06         NaN  United Kingdom  "
      ]
     },
     "execution_count": 4,
     "metadata": {},
     "output_type": "execute_result"
    }
   ],
   "source": [
    "# Check for string charachters contains in invoice no\n",
    "data[data['InvoiceNo'].str.contains('\\D').replace(pd.NA, False)]"
   ]
  },
  {
   "cell_type": "markdown",
   "metadata": {},
   "source": [
    "### Remove rows where customerID are NA"
   ]
  },
  {
   "cell_type": "code",
   "execution_count": 5,
   "metadata": {},
   "outputs": [
    {
     "data": {
      "text/plain": [
       "59942"
      ]
     },
     "execution_count": 5,
     "metadata": {},
     "output_type": "execute_result"
    }
   ],
   "source": [
    "# Check the number of rows have null values for CustomerID\n",
    "data['CustomerID'].isnull().sum()"
   ]
  },
  {
   "cell_type": "code",
   "execution_count": 6,
   "metadata": {},
   "outputs": [
    {
     "data": {
      "text/plain": [
       "(176137, 8)"
      ]
     },
     "execution_count": 6,
     "metadata": {},
     "output_type": "execute_result"
    }
   ],
   "source": [
    "data.dropna(subset=['CustomerID'], axis=0, inplace=True)\n",
    "data.shape"
   ]
  },
  {
   "cell_type": "markdown",
   "metadata": {},
   "source": [
    "***Why missing CustomerID?***\n",
    "\n",
    " - Possibly guest checkout feature on the website\n",
    " - What could be possible features that you would collect if you want to segment \"guest\" customers?\n",
    "    - browser, IP, location, cookie"
   ]
  },
  {
   "cell_type": "markdown",
   "metadata": {},
   "source": [
    "## RFM Analysis\n",
    "RFM (Recency, Frequency, Monetary) analysis is a customer segmentation technique that uses past purchase behavior to divide customers into groups. RFM helps divide customers into various categories or clusters to identify customers who are more likely to respond to promotions and also for future personalization services.\n",
    "\n",
    "**RECENCY (R)**: Days since last purchase\n",
    "\n",
    "**FREQUENCY (F):** Total number of purchases\n",
    "\n",
    "**MONETARY VALUE (M):** Total money this customer spent.\n",
    "\n",
    "We will create those 3 customer attributes for each customer."
   ]
  },
  {
   "cell_type": "markdown",
   "metadata": {},
   "source": [
    "## Recency\n",
    "To calculate recency, we need to choose a date point from which we evaluate how many days ago was the customer's last purchase."
   ]
  },
  {
   "cell_type": "markdown",
   "metadata": {},
   "source": [
    "### Find out the latest date in the data to use it as for reference"
   ]
  },
  {
   "cell_type": "code",
   "execution_count": 7,
   "metadata": {},
   "outputs": [
    {
     "data": {
      "text/plain": [
       "'9/9/2011 9:52'"
      ]
     },
     "execution_count": 7,
     "metadata": {},
     "output_type": "execute_result"
    }
   ],
   "source": [
    "# Last date available in our dataset\n",
    "data['InvoiceDate'].max()"
   ]
  },
  {
   "cell_type": "code",
   "execution_count": 8,
   "metadata": {},
   "outputs": [
    {
     "name": "stdout",
     "output_type": "stream",
     "text": [
      "2011-12-09\n"
     ]
    }
   ],
   "source": [
    "# Some reference date where we evaluate recency\n",
    "now = dt.date(2011, 12, 9)\n",
    "print(now)"
   ]
  },
  {
   "cell_type": "markdown",
   "metadata": {},
   "source": [
    "### Create a new column called date which contains the date of invoice only"
   ]
  },
  {
   "cell_type": "code",
   "execution_count": 9,
   "metadata": {},
   "outputs": [
    {
     "data": {
      "text/html": [
       "<div>\n",
       "<style scoped>\n",
       "    .dataframe tbody tr th:only-of-type {\n",
       "        vertical-align: middle;\n",
       "    }\n",
       "\n",
       "    .dataframe tbody tr th {\n",
       "        vertical-align: top;\n",
       "    }\n",
       "\n",
       "    .dataframe thead th {\n",
       "        text-align: right;\n",
       "    }\n",
       "</style>\n",
       "<table border=\"1\" class=\"dataframe\">\n",
       "  <thead>\n",
       "    <tr style=\"text-align: right;\">\n",
       "      <th></th>\n",
       "      <th>InvoiceNo</th>\n",
       "      <th>StockCode</th>\n",
       "      <th>Description</th>\n",
       "      <th>Quantity</th>\n",
       "      <th>InvoiceDate</th>\n",
       "      <th>UnitPrice</th>\n",
       "      <th>CustomerID</th>\n",
       "      <th>Country</th>\n",
       "      <th>Date</th>\n",
       "    </tr>\n",
       "  </thead>\n",
       "  <tbody>\n",
       "    <tr>\n",
       "      <th>0</th>\n",
       "      <td>545220</td>\n",
       "      <td>21955</td>\n",
       "      <td>DOORMAT UNION JACK GUNS AND ROSES</td>\n",
       "      <td>2</td>\n",
       "      <td>3/1/2011 8:30</td>\n",
       "      <td>7.95</td>\n",
       "      <td>14620.0</td>\n",
       "      <td>United Kingdom</td>\n",
       "      <td>2011-03-01</td>\n",
       "    </tr>\n",
       "    <tr>\n",
       "      <th>1</th>\n",
       "      <td>545220</td>\n",
       "      <td>48194</td>\n",
       "      <td>DOORMAT HEARTS</td>\n",
       "      <td>2</td>\n",
       "      <td>3/1/2011 8:30</td>\n",
       "      <td>7.95</td>\n",
       "      <td>14620.0</td>\n",
       "      <td>United Kingdom</td>\n",
       "      <td>2011-03-01</td>\n",
       "    </tr>\n",
       "    <tr>\n",
       "      <th>2</th>\n",
       "      <td>545220</td>\n",
       "      <td>22556</td>\n",
       "      <td>PLASTERS IN TIN CIRCUS PARADE</td>\n",
       "      <td>12</td>\n",
       "      <td>3/1/2011 8:30</td>\n",
       "      <td>1.65</td>\n",
       "      <td>14620.0</td>\n",
       "      <td>United Kingdom</td>\n",
       "      <td>2011-03-01</td>\n",
       "    </tr>\n",
       "    <tr>\n",
       "      <th>3</th>\n",
       "      <td>545220</td>\n",
       "      <td>22139</td>\n",
       "      <td>RETROSPOT TEA SET CERAMIC 11 PC</td>\n",
       "      <td>3</td>\n",
       "      <td>3/1/2011 8:30</td>\n",
       "      <td>4.95</td>\n",
       "      <td>14620.0</td>\n",
       "      <td>United Kingdom</td>\n",
       "      <td>2011-03-01</td>\n",
       "    </tr>\n",
       "    <tr>\n",
       "      <th>4</th>\n",
       "      <td>545220</td>\n",
       "      <td>84029G</td>\n",
       "      <td>KNITTED UNION FLAG HOT WATER BOTTLE</td>\n",
       "      <td>4</td>\n",
       "      <td>3/1/2011 8:30</td>\n",
       "      <td>3.75</td>\n",
       "      <td>14620.0</td>\n",
       "      <td>United Kingdom</td>\n",
       "      <td>2011-03-01</td>\n",
       "    </tr>\n",
       "  </tbody>\n",
       "</table>\n",
       "</div>"
      ],
      "text/plain": [
       "  InvoiceNo StockCode                          Description  Quantity  \\\n",
       "0    545220     21955    DOORMAT UNION JACK GUNS AND ROSES         2   \n",
       "1    545220     48194                       DOORMAT HEARTS         2   \n",
       "2    545220     22556       PLASTERS IN TIN CIRCUS PARADE         12   \n",
       "3    545220     22139     RETROSPOT TEA SET CERAMIC 11 PC          3   \n",
       "4    545220    84029G  KNITTED UNION FLAG HOT WATER BOTTLE         4   \n",
       "\n",
       "     InvoiceDate  UnitPrice  CustomerID         Country        Date  \n",
       "0  3/1/2011 8:30       7.95     14620.0  United Kingdom  2011-03-01  \n",
       "1  3/1/2011 8:30       7.95     14620.0  United Kingdom  2011-03-01  \n",
       "2  3/1/2011 8:30       1.65     14620.0  United Kingdom  2011-03-01  \n",
       "3  3/1/2011 8:30       4.95     14620.0  United Kingdom  2011-03-01  \n",
       "4  3/1/2011 8:30       3.75     14620.0  United Kingdom  2011-03-01  "
      ]
     },
     "execution_count": 9,
     "metadata": {},
     "output_type": "execute_result"
    }
   ],
   "source": [
    "data['Date'] = pd.DatetimeIndex(data['InvoiceDate']).date\n",
    "data.head()"
   ]
  },
  {
   "cell_type": "markdown",
   "metadata": {},
   "source": [
    "### Check the last date of purchase with respect to CustomerID and calculate the RECENCY"
   ]
  },
  {
   "cell_type": "code",
   "execution_count": 10,
   "metadata": {
    "scrolled": true
   },
   "outputs": [
    {
     "data": {
      "text/html": [
       "<div>\n",
       "<style scoped>\n",
       "    .dataframe tbody tr th:only-of-type {\n",
       "        vertical-align: middle;\n",
       "    }\n",
       "\n",
       "    .dataframe tbody tr th {\n",
       "        vertical-align: top;\n",
       "    }\n",
       "\n",
       "    .dataframe thead th {\n",
       "        text-align: right;\n",
       "    }\n",
       "</style>\n",
       "<table border=\"1\" class=\"dataframe\">\n",
       "  <thead>\n",
       "    <tr style=\"text-align: right;\">\n",
       "      <th></th>\n",
       "      <th>CustomerID</th>\n",
       "      <th>LastPurchaseDate</th>\n",
       "    </tr>\n",
       "  </thead>\n",
       "  <tbody>\n",
       "    <tr>\n",
       "      <th>0</th>\n",
       "      <td>12747.0</td>\n",
       "      <td>2011-08-22</td>\n",
       "    </tr>\n",
       "    <tr>\n",
       "      <th>1</th>\n",
       "      <td>12748.0</td>\n",
       "      <td>2011-09-30</td>\n",
       "    </tr>\n",
       "    <tr>\n",
       "      <th>2</th>\n",
       "      <td>12749.0</td>\n",
       "      <td>2011-08-01</td>\n",
       "    </tr>\n",
       "    <tr>\n",
       "      <th>3</th>\n",
       "      <td>12820.0</td>\n",
       "      <td>2011-09-26</td>\n",
       "    </tr>\n",
       "    <tr>\n",
       "      <th>4</th>\n",
       "      <td>12821.0</td>\n",
       "      <td>2011-05-09</td>\n",
       "    </tr>\n",
       "  </tbody>\n",
       "</table>\n",
       "</div>"
      ],
      "text/plain": [
       "   CustomerID LastPurchaseDate\n",
       "0     12747.0       2011-08-22\n",
       "1     12748.0       2011-09-30\n",
       "2     12749.0       2011-08-01\n",
       "3     12820.0       2011-09-26\n",
       "4     12821.0       2011-05-09"
      ]
     },
     "execution_count": 10,
     "metadata": {},
     "output_type": "execute_result"
    }
   ],
   "source": [
    "recency_df = data.groupby(by='CustomerID', as_index=False)['Date'].max()\n",
    "recency_df.columns = ['CustomerID', 'LastPurchaseDate']\n",
    "recency_df.head()"
   ]
  },
  {
   "cell_type": "code",
   "execution_count": 11,
   "metadata": {},
   "outputs": [
    {
     "data": {
      "text/html": [
       "<div>\n",
       "<style scoped>\n",
       "    .dataframe tbody tr th:only-of-type {\n",
       "        vertical-align: middle;\n",
       "    }\n",
       "\n",
       "    .dataframe tbody tr th {\n",
       "        vertical-align: top;\n",
       "    }\n",
       "\n",
       "    .dataframe thead th {\n",
       "        text-align: right;\n",
       "    }\n",
       "</style>\n",
       "<table border=\"1\" class=\"dataframe\">\n",
       "  <thead>\n",
       "    <tr style=\"text-align: right;\">\n",
       "      <th></th>\n",
       "      <th>CustomerID</th>\n",
       "      <th>LastPurchaseDate</th>\n",
       "      <th>Recency</th>\n",
       "    </tr>\n",
       "  </thead>\n",
       "  <tbody>\n",
       "    <tr>\n",
       "      <th>0</th>\n",
       "      <td>12747.0</td>\n",
       "      <td>2011-08-22</td>\n",
       "      <td>109</td>\n",
       "    </tr>\n",
       "    <tr>\n",
       "      <th>1</th>\n",
       "      <td>12748.0</td>\n",
       "      <td>2011-09-30</td>\n",
       "      <td>70</td>\n",
       "    </tr>\n",
       "    <tr>\n",
       "      <th>2</th>\n",
       "      <td>12749.0</td>\n",
       "      <td>2011-08-01</td>\n",
       "      <td>130</td>\n",
       "    </tr>\n",
       "    <tr>\n",
       "      <th>3</th>\n",
       "      <td>12820.0</td>\n",
       "      <td>2011-09-26</td>\n",
       "      <td>74</td>\n",
       "    </tr>\n",
       "    <tr>\n",
       "      <th>4</th>\n",
       "      <td>12821.0</td>\n",
       "      <td>2011-05-09</td>\n",
       "      <td>214</td>\n",
       "    </tr>\n",
       "  </tbody>\n",
       "</table>\n",
       "</div>"
      ],
      "text/plain": [
       "   CustomerID LastPurchaseDate  Recency\n",
       "0     12747.0       2011-08-22      109\n",
       "1     12748.0       2011-09-30       70\n",
       "2     12749.0       2011-08-01      130\n",
       "3     12820.0       2011-09-26       74\n",
       "4     12821.0       2011-05-09      214"
      ]
     },
     "execution_count": 11,
     "metadata": {},
     "output_type": "execute_result"
    }
   ],
   "source": [
    "# Calculate Recency\n",
    "recency_df['Recency'] = recency_df['LastPurchaseDate'].apply(lambda x: (now-x).days)\n",
    "recency_df.head()"
   ]
  },
  {
   "cell_type": "markdown",
   "metadata": {},
   "source": [
    "## Frequency\n",
    "Frequency helps us to know how many times a customer purchased from us. To do that we need to check how many invoices are registered by the same customer."
   ]
  },
  {
   "cell_type": "markdown",
   "metadata": {},
   "source": [
    "### Drop duplicate data from the data"
   ]
  },
  {
   "cell_type": "code",
   "execution_count": 12,
   "metadata": {},
   "outputs": [
    {
     "data": {
      "text/plain": [
       "(8790, 9)"
      ]
     },
     "execution_count": 12,
     "metadata": {},
     "output_type": "execute_result"
    }
   ],
   "source": [
    "retail_uk_copy = data.copy()\n",
    "retail_uk_copy.drop_duplicates(subset=['InvoiceNo', 'CustomerID'], keep='first', inplace=True)\n",
    "retail_uk_copy.shape"
   ]
  },
  {
   "cell_type": "markdown",
   "metadata": {},
   "source": [
    "### Calculate the frequency of purchases"
   ]
  },
  {
   "cell_type": "code",
   "execution_count": 13,
   "metadata": {},
   "outputs": [
    {
     "data": {
      "text/html": [
       "<div>\n",
       "<style scoped>\n",
       "    .dataframe tbody tr th:only-of-type {\n",
       "        vertical-align: middle;\n",
       "    }\n",
       "\n",
       "    .dataframe tbody tr th {\n",
       "        vertical-align: top;\n",
       "    }\n",
       "\n",
       "    .dataframe thead th {\n",
       "        text-align: right;\n",
       "    }\n",
       "</style>\n",
       "<table border=\"1\" class=\"dataframe\">\n",
       "  <thead>\n",
       "    <tr style=\"text-align: right;\">\n",
       "      <th></th>\n",
       "      <th>CustomerID</th>\n",
       "      <th>Frequency</th>\n",
       "    </tr>\n",
       "  </thead>\n",
       "  <tbody>\n",
       "    <tr>\n",
       "      <th>0</th>\n",
       "      <td>12747.0</td>\n",
       "      <td>5</td>\n",
       "    </tr>\n",
       "    <tr>\n",
       "      <th>1</th>\n",
       "      <td>12748.0</td>\n",
       "      <td>96</td>\n",
       "    </tr>\n",
       "    <tr>\n",
       "      <th>2</th>\n",
       "      <td>12749.0</td>\n",
       "      <td>3</td>\n",
       "    </tr>\n",
       "    <tr>\n",
       "      <th>3</th>\n",
       "      <td>12820.0</td>\n",
       "      <td>1</td>\n",
       "    </tr>\n",
       "    <tr>\n",
       "      <th>4</th>\n",
       "      <td>12821.0</td>\n",
       "      <td>1</td>\n",
       "    </tr>\n",
       "  </tbody>\n",
       "</table>\n",
       "</div>"
      ],
      "text/plain": [
       "   CustomerID  Frequency\n",
       "0     12747.0          5\n",
       "1     12748.0         96\n",
       "2     12749.0          3\n",
       "3     12820.0          1\n",
       "4     12821.0          1"
      ]
     },
     "execution_count": 13,
     "metadata": {},
     "output_type": "execute_result"
    }
   ],
   "source": [
    "frequency_df = retail_uk_copy.groupby(by='CustomerID', as_index=False)['InvoiceNo'].count()\n",
    "frequency_df.columns = ['CustomerID', 'Frequency']\n",
    "frequency_df.head()"
   ]
  },
  {
   "cell_type": "markdown",
   "metadata": {},
   "source": [
    "## Monetary\n",
    "\n",
    "**Monetary attribute answers the question: How much money did the customer spent over time?**\n",
    "\n",
    "### To do that, first, we will create a new column total cost to have the total price per invoice."
   ]
  },
  {
   "cell_type": "code",
   "execution_count": 14,
   "metadata": {},
   "outputs": [
    {
     "data": {
      "text/html": [
       "<div>\n",
       "<style scoped>\n",
       "    .dataframe tbody tr th:only-of-type {\n",
       "        vertical-align: middle;\n",
       "    }\n",
       "\n",
       "    .dataframe tbody tr th {\n",
       "        vertical-align: top;\n",
       "    }\n",
       "\n",
       "    .dataframe thead th {\n",
       "        text-align: right;\n",
       "    }\n",
       "</style>\n",
       "<table border=\"1\" class=\"dataframe\">\n",
       "  <thead>\n",
       "    <tr style=\"text-align: right;\">\n",
       "      <th></th>\n",
       "      <th>InvoiceNo</th>\n",
       "      <th>StockCode</th>\n",
       "      <th>Description</th>\n",
       "      <th>Quantity</th>\n",
       "      <th>InvoiceDate</th>\n",
       "      <th>UnitPrice</th>\n",
       "      <th>CustomerID</th>\n",
       "      <th>Country</th>\n",
       "      <th>Date</th>\n",
       "    </tr>\n",
       "  </thead>\n",
       "  <tbody>\n",
       "    <tr>\n",
       "      <th>0</th>\n",
       "      <td>545220</td>\n",
       "      <td>21955</td>\n",
       "      <td>DOORMAT UNION JACK GUNS AND ROSES</td>\n",
       "      <td>2</td>\n",
       "      <td>3/1/2011 8:30</td>\n",
       "      <td>7.95</td>\n",
       "      <td>14620.0</td>\n",
       "      <td>United Kingdom</td>\n",
       "      <td>2011-03-01</td>\n",
       "    </tr>\n",
       "    <tr>\n",
       "      <th>1</th>\n",
       "      <td>545220</td>\n",
       "      <td>48194</td>\n",
       "      <td>DOORMAT HEARTS</td>\n",
       "      <td>2</td>\n",
       "      <td>3/1/2011 8:30</td>\n",
       "      <td>7.95</td>\n",
       "      <td>14620.0</td>\n",
       "      <td>United Kingdom</td>\n",
       "      <td>2011-03-01</td>\n",
       "    </tr>\n",
       "  </tbody>\n",
       "</table>\n",
       "</div>"
      ],
      "text/plain": [
       "  InvoiceNo StockCode                        Description  Quantity  \\\n",
       "0    545220     21955  DOORMAT UNION JACK GUNS AND ROSES         2   \n",
       "1    545220     48194                     DOORMAT HEARTS         2   \n",
       "\n",
       "     InvoiceDate  UnitPrice  CustomerID         Country        Date  \n",
       "0  3/1/2011 8:30       7.95     14620.0  United Kingdom  2011-03-01  \n",
       "1  3/1/2011 8:30       7.95     14620.0  United Kingdom  2011-03-01  "
      ]
     },
     "execution_count": 14,
     "metadata": {},
     "output_type": "execute_result"
    }
   ],
   "source": [
    "data.head(2)"
   ]
  },
  {
   "cell_type": "code",
   "execution_count": 15,
   "metadata": {},
   "outputs": [
    {
     "data": {
      "text/html": [
       "<div>\n",
       "<style scoped>\n",
       "    .dataframe tbody tr th:only-of-type {\n",
       "        vertical-align: middle;\n",
       "    }\n",
       "\n",
       "    .dataframe tbody tr th {\n",
       "        vertical-align: top;\n",
       "    }\n",
       "\n",
       "    .dataframe thead th {\n",
       "        text-align: right;\n",
       "    }\n",
       "</style>\n",
       "<table border=\"1\" class=\"dataframe\">\n",
       "  <thead>\n",
       "    <tr style=\"text-align: right;\">\n",
       "      <th></th>\n",
       "      <th>InvoiceNo</th>\n",
       "      <th>StockCode</th>\n",
       "      <th>Description</th>\n",
       "      <th>Quantity</th>\n",
       "      <th>InvoiceDate</th>\n",
       "      <th>UnitPrice</th>\n",
       "      <th>CustomerID</th>\n",
       "      <th>Country</th>\n",
       "      <th>Date</th>\n",
       "      <th>TotalCost</th>\n",
       "    </tr>\n",
       "  </thead>\n",
       "  <tbody>\n",
       "    <tr>\n",
       "      <th>0</th>\n",
       "      <td>545220</td>\n",
       "      <td>21955</td>\n",
       "      <td>DOORMAT UNION JACK GUNS AND ROSES</td>\n",
       "      <td>2</td>\n",
       "      <td>3/1/2011 8:30</td>\n",
       "      <td>7.95</td>\n",
       "      <td>14620.0</td>\n",
       "      <td>United Kingdom</td>\n",
       "      <td>2011-03-01</td>\n",
       "      <td>15.90</td>\n",
       "    </tr>\n",
       "    <tr>\n",
       "      <th>1</th>\n",
       "      <td>545220</td>\n",
       "      <td>48194</td>\n",
       "      <td>DOORMAT HEARTS</td>\n",
       "      <td>2</td>\n",
       "      <td>3/1/2011 8:30</td>\n",
       "      <td>7.95</td>\n",
       "      <td>14620.0</td>\n",
       "      <td>United Kingdom</td>\n",
       "      <td>2011-03-01</td>\n",
       "      <td>15.90</td>\n",
       "    </tr>\n",
       "    <tr>\n",
       "      <th>2</th>\n",
       "      <td>545220</td>\n",
       "      <td>22556</td>\n",
       "      <td>PLASTERS IN TIN CIRCUS PARADE</td>\n",
       "      <td>12</td>\n",
       "      <td>3/1/2011 8:30</td>\n",
       "      <td>1.65</td>\n",
       "      <td>14620.0</td>\n",
       "      <td>United Kingdom</td>\n",
       "      <td>2011-03-01</td>\n",
       "      <td>19.80</td>\n",
       "    </tr>\n",
       "    <tr>\n",
       "      <th>3</th>\n",
       "      <td>545220</td>\n",
       "      <td>22139</td>\n",
       "      <td>RETROSPOT TEA SET CERAMIC 11 PC</td>\n",
       "      <td>3</td>\n",
       "      <td>3/1/2011 8:30</td>\n",
       "      <td>4.95</td>\n",
       "      <td>14620.0</td>\n",
       "      <td>United Kingdom</td>\n",
       "      <td>2011-03-01</td>\n",
       "      <td>14.85</td>\n",
       "    </tr>\n",
       "    <tr>\n",
       "      <th>4</th>\n",
       "      <td>545220</td>\n",
       "      <td>84029G</td>\n",
       "      <td>KNITTED UNION FLAG HOT WATER BOTTLE</td>\n",
       "      <td>4</td>\n",
       "      <td>3/1/2011 8:30</td>\n",
       "      <td>3.75</td>\n",
       "      <td>14620.0</td>\n",
       "      <td>United Kingdom</td>\n",
       "      <td>2011-03-01</td>\n",
       "      <td>15.00</td>\n",
       "    </tr>\n",
       "  </tbody>\n",
       "</table>\n",
       "</div>"
      ],
      "text/plain": [
       "  InvoiceNo StockCode                          Description  Quantity  \\\n",
       "0    545220     21955    DOORMAT UNION JACK GUNS AND ROSES         2   \n",
       "1    545220     48194                       DOORMAT HEARTS         2   \n",
       "2    545220     22556       PLASTERS IN TIN CIRCUS PARADE         12   \n",
       "3    545220     22139     RETROSPOT TEA SET CERAMIC 11 PC          3   \n",
       "4    545220    84029G  KNITTED UNION FLAG HOT WATER BOTTLE         4   \n",
       "\n",
       "     InvoiceDate  UnitPrice  CustomerID         Country        Date  TotalCost  \n",
       "0  3/1/2011 8:30       7.95     14620.0  United Kingdom  2011-03-01      15.90  \n",
       "1  3/1/2011 8:30       7.95     14620.0  United Kingdom  2011-03-01      15.90  \n",
       "2  3/1/2011 8:30       1.65     14620.0  United Kingdom  2011-03-01      19.80  \n",
       "3  3/1/2011 8:30       4.95     14620.0  United Kingdom  2011-03-01      14.85  \n",
       "4  3/1/2011 8:30       3.75     14620.0  United Kingdom  2011-03-01      15.00  "
      ]
     },
     "execution_count": 15,
     "metadata": {},
     "output_type": "execute_result"
    }
   ],
   "source": [
    "data['TotalCost'] = data['Quantity'] * data['UnitPrice']\n",
    "data.head()"
   ]
  },
  {
   "cell_type": "code",
   "execution_count": 16,
   "metadata": {},
   "outputs": [
    {
     "data": {
      "text/html": [
       "<div>\n",
       "<style scoped>\n",
       "    .dataframe tbody tr th:only-of-type {\n",
       "        vertical-align: middle;\n",
       "    }\n",
       "\n",
       "    .dataframe tbody tr th {\n",
       "        vertical-align: top;\n",
       "    }\n",
       "\n",
       "    .dataframe thead th {\n",
       "        text-align: right;\n",
       "    }\n",
       "</style>\n",
       "<table border=\"1\" class=\"dataframe\">\n",
       "  <thead>\n",
       "    <tr style=\"text-align: right;\">\n",
       "      <th></th>\n",
       "      <th>CustomerID</th>\n",
       "      <th>Monetary</th>\n",
       "    </tr>\n",
       "  </thead>\n",
       "  <tbody>\n",
       "    <tr>\n",
       "      <th>0</th>\n",
       "      <td>12747.0</td>\n",
       "      <td>1760.09</td>\n",
       "    </tr>\n",
       "    <tr>\n",
       "      <th>1</th>\n",
       "      <td>12748.0</td>\n",
       "      <td>14680.85</td>\n",
       "    </tr>\n",
       "    <tr>\n",
       "      <th>2</th>\n",
       "      <td>12749.0</td>\n",
       "      <td>2755.23</td>\n",
       "    </tr>\n",
       "    <tr>\n",
       "      <th>3</th>\n",
       "      <td>12820.0</td>\n",
       "      <td>217.77</td>\n",
       "    </tr>\n",
       "    <tr>\n",
       "      <th>4</th>\n",
       "      <td>12821.0</td>\n",
       "      <td>92.72</td>\n",
       "    </tr>\n",
       "  </tbody>\n",
       "</table>\n",
       "</div>"
      ],
      "text/plain": [
       "   CustomerID  Monetary\n",
       "0     12747.0   1760.09\n",
       "1     12748.0  14680.85\n",
       "2     12749.0   2755.23\n",
       "3     12820.0    217.77\n",
       "4     12821.0     92.72"
      ]
     },
     "execution_count": 16,
     "metadata": {},
     "output_type": "execute_result"
    }
   ],
   "source": [
    "monetary_df = data.groupby(by='CustomerID', as_index=False).agg({'TotalCost': 'sum'})\n",
    "monetary_df.columns = ['CustomerID', 'Monetary']\n",
    "monetary_df.head()"
   ]
  },
  {
   "cell_type": "markdown",
   "metadata": {},
   "source": [
    "### Create RFM Table"
   ]
  },
  {
   "cell_type": "code",
   "execution_count": 17,
   "metadata": {},
   "outputs": [
    {
     "data": {
      "text/html": [
       "<div>\n",
       "<style scoped>\n",
       "    .dataframe tbody tr th:only-of-type {\n",
       "        vertical-align: middle;\n",
       "    }\n",
       "\n",
       "    .dataframe tbody tr th {\n",
       "        vertical-align: top;\n",
       "    }\n",
       "\n",
       "    .dataframe thead th {\n",
       "        text-align: right;\n",
       "    }\n",
       "</style>\n",
       "<table border=\"1\" class=\"dataframe\">\n",
       "  <thead>\n",
       "    <tr style=\"text-align: right;\">\n",
       "      <th></th>\n",
       "      <th>LastPurchaseDate</th>\n",
       "      <th>Recency</th>\n",
       "      <th>Frequency</th>\n",
       "      <th>Monetary</th>\n",
       "    </tr>\n",
       "    <tr>\n",
       "      <th>CustomerID</th>\n",
       "      <th></th>\n",
       "      <th></th>\n",
       "      <th></th>\n",
       "      <th></th>\n",
       "    </tr>\n",
       "  </thead>\n",
       "  <tbody>\n",
       "    <tr>\n",
       "      <th>12747.0</th>\n",
       "      <td>2011-08-22</td>\n",
       "      <td>109</td>\n",
       "      <td>5</td>\n",
       "      <td>1760.09</td>\n",
       "    </tr>\n",
       "    <tr>\n",
       "      <th>12748.0</th>\n",
       "      <td>2011-09-30</td>\n",
       "      <td>70</td>\n",
       "      <td>96</td>\n",
       "      <td>14680.85</td>\n",
       "    </tr>\n",
       "    <tr>\n",
       "      <th>12749.0</th>\n",
       "      <td>2011-08-01</td>\n",
       "      <td>130</td>\n",
       "      <td>3</td>\n",
       "      <td>2755.23</td>\n",
       "    </tr>\n",
       "    <tr>\n",
       "      <th>12820.0</th>\n",
       "      <td>2011-09-26</td>\n",
       "      <td>74</td>\n",
       "      <td>1</td>\n",
       "      <td>217.77</td>\n",
       "    </tr>\n",
       "    <tr>\n",
       "      <th>12821.0</th>\n",
       "      <td>2011-05-09</td>\n",
       "      <td>214</td>\n",
       "      <td>1</td>\n",
       "      <td>92.72</td>\n",
       "    </tr>\n",
       "  </tbody>\n",
       "</table>\n",
       "</div>"
      ],
      "text/plain": [
       "           LastPurchaseDate  Recency  Frequency  Monetary\n",
       "CustomerID                                               \n",
       "12747.0          2011-08-22      109          5   1760.09\n",
       "12748.0          2011-09-30       70         96  14680.85\n",
       "12749.0          2011-08-01      130          3   2755.23\n",
       "12820.0          2011-09-26       74          1    217.77\n",
       "12821.0          2011-05-09      214          1     92.72"
      ]
     },
     "execution_count": 17,
     "metadata": {},
     "output_type": "execute_result"
    }
   ],
   "source": [
    "rfm_df = (\n",
    "    recency_df\n",
    "    .merge(frequency_df, on='CustomerID')\n",
    "    .merge(monetary_df, on='CustomerID')\n",
    ")\n",
    "\n",
    "rfm_df.set_index('CustomerID', inplace=True)\n",
    "rfm_df.head()"
   ]
  },
  {
   "cell_type": "markdown",
   "metadata": {},
   "source": [
    "## Customer segments with RFM Model\n",
    "\n",
    "**The simplest way to create customers segments from RFM Model is to use Quartiles. We assign a score from 1 to 4 to Recency, Frequency and Monetary. Four is the best/highest value, and one is the lowest/worst value. A final RFM score is calculated simply by combining individual RFM score numbers.**\n",
    "\n",
    "Note: Quintiles (score from 1-5) offer better granularity, in case the business needs that but it will be more challenging to create segments since we will have 555 possible combinations. So, we will use quartiles."
   ]
  },
  {
   "cell_type": "markdown",
   "metadata": {},
   "source": [
    "### Find RFM quartiles"
   ]
  },
  {
   "cell_type": "code",
   "execution_count": 18,
   "metadata": {},
   "outputs": [
    {
     "data": {
      "text/html": [
       "<div>\n",
       "<style scoped>\n",
       "    .dataframe tbody tr th:only-of-type {\n",
       "        vertical-align: middle;\n",
       "    }\n",
       "\n",
       "    .dataframe tbody tr th {\n",
       "        vertical-align: top;\n",
       "    }\n",
       "\n",
       "    .dataframe thead th {\n",
       "        text-align: right;\n",
       "    }\n",
       "</style>\n",
       "<table border=\"1\" class=\"dataframe\">\n",
       "  <thead>\n",
       "    <tr style=\"text-align: right;\">\n",
       "      <th></th>\n",
       "      <th>Recency</th>\n",
       "      <th>Frequency</th>\n",
       "      <th>Monetary</th>\n",
       "    </tr>\n",
       "  </thead>\n",
       "  <tbody>\n",
       "    <tr>\n",
       "      <th>0.00</th>\n",
       "      <td>70.0</td>\n",
       "      <td>1.0</td>\n",
       "      <td>2.9000</td>\n",
       "    </tr>\n",
       "    <tr>\n",
       "      <th>0.25</th>\n",
       "      <td>85.0</td>\n",
       "      <td>1.0</td>\n",
       "      <td>258.0775</td>\n",
       "    </tr>\n",
       "    <tr>\n",
       "      <th>0.50</th>\n",
       "      <td>119.0</td>\n",
       "      <td>2.0</td>\n",
       "      <td>518.3500</td>\n",
       "    </tr>\n",
       "    <tr>\n",
       "      <th>0.75</th>\n",
       "      <td>183.0</td>\n",
       "      <td>3.0</td>\n",
       "      <td>1182.9725</td>\n",
       "    </tr>\n",
       "    <tr>\n",
       "      <th>1.00</th>\n",
       "      <td>283.0</td>\n",
       "      <td>96.0</td>\n",
       "      <td>141789.3200</td>\n",
       "    </tr>\n",
       "  </tbody>\n",
       "</table>\n",
       "</div>"
      ],
      "text/plain": [
       "      Recency  Frequency     Monetary\n",
       "0.00     70.0        1.0       2.9000\n",
       "0.25     85.0        1.0     258.0775\n",
       "0.50    119.0        2.0     518.3500\n",
       "0.75    183.0        3.0    1182.9725\n",
       "1.00    283.0       96.0  141789.3200"
      ]
     },
     "execution_count": 18,
     "metadata": {},
     "output_type": "execute_result"
    }
   ],
   "source": [
    "quantiles = rfm_df.quantile(q=[0, 0.25, 0.5, 0.75, 1])\n",
    "quantiles"
   ]
  },
  {
   "cell_type": "markdown",
   "metadata": {},
   "source": [
    "Since we have duplicate bin edges for __Frequency__ column, we can custom define the range for it"
   ]
  },
  {
   "cell_type": "code",
   "execution_count": 19,
   "metadata": {},
   "outputs": [
    {
     "data": {
      "text/plain": [
       "0.0     1.0\n",
       "0.5     2.0\n",
       "0.7     3.0\n",
       "0.8     4.0\n",
       "1.0    96.0\n",
       "Name: Frequency, dtype: float64"
      ]
     },
     "execution_count": 19,
     "metadata": {},
     "output_type": "execute_result"
    }
   ],
   "source": [
    "rfm_df['Frequency'].quantile(q=[0, 0.5, 0.7, 0.8, 1])"
   ]
  },
  {
   "cell_type": "markdown",
   "metadata": {},
   "source": [
    "## Creation of RFM Segments\n",
    "\n",
    "We will create two segmentation classes since, high recency is bad, while high frequency and monetary value is good.\n",
    "\n"
   ]
  },
  {
   "cell_type": "markdown",
   "metadata": {},
   "source": [
    "### Create functions as per the appropriate quaritle values and apply them to create segments"
   ]
  },
  {
   "cell_type": "code",
   "execution_count": 20,
   "metadata": {},
   "outputs": [
    {
     "data": {
      "text/plain": [
       "CustomerID\n",
       "12747.0    3\n",
       "12748.0    4\n",
       "12749.0    2\n",
       "12820.0    4\n",
       "12821.0    1\n",
       "Name: Recency, dtype: category\n",
       "Categories (4, int64): [4 < 3 < 2 < 1]"
      ]
     },
     "execution_count": 20,
     "metadata": {},
     "output_type": "execute_result"
    }
   ],
   "source": [
    "r_labels = range(4, 0, -1)\n",
    "r_groups = pd.qcut(rfm_df['Recency'], q=4, labels=r_labels)\n",
    "r_groups.head()"
   ]
  },
  {
   "cell_type": "code",
   "execution_count": 21,
   "metadata": {},
   "outputs": [
    {
     "data": {
      "text/plain": [
       "CustomerID\n",
       "12747.0    4\n",
       "12748.0    4\n",
       "12749.0    4\n",
       "12820.0    1\n",
       "12821.0    1\n",
       "Name: Monetary, dtype: category\n",
       "Categories (4, int64): [1 < 2 < 3 < 4]"
      ]
     },
     "execution_count": 21,
     "metadata": {},
     "output_type": "execute_result"
    }
   ],
   "source": [
    "m_labels = range(1, 5)\n",
    "m_groups = pd.qcut(rfm_df['Monetary'], q=4, labels=m_labels)\n",
    "m_groups.head()"
   ]
  },
  {
   "cell_type": "code",
   "execution_count": 22,
   "metadata": {},
   "outputs": [
    {
     "data": {
      "text/plain": [
       "CustomerID\n",
       "12747.0    4\n",
       "12748.0    4\n",
       "12749.0    2\n",
       "12820.0    1\n",
       "12821.0    1\n",
       "Name: Frequency, dtype: category\n",
       "Categories (4, int64): [1 < 2 < 3 < 4]"
      ]
     },
     "execution_count": 22,
     "metadata": {},
     "output_type": "execute_result"
    }
   ],
   "source": [
    "# Use custom q for avaioding duplicate edge threshods\n",
    "f_labels = range(1, 5)\n",
    "f_groups = pd.qcut(rfm_df['Frequency'], q=[0, 0.5, 0.7, 0.8, 1], labels=f_labels)\n",
    "f_groups.head()"
   ]
  },
  {
   "cell_type": "markdown",
   "metadata": {},
   "source": [
    "### Now that we have the score of each customer, we can represent our customer segmentation, combine the scores (R_Quartile, F_Quartile,M_Quartile) together."
   ]
  },
  {
   "cell_type": "code",
   "execution_count": 23,
   "metadata": {},
   "outputs": [
    {
     "data": {
      "text/html": [
       "<div>\n",
       "<style scoped>\n",
       "    .dataframe tbody tr th:only-of-type {\n",
       "        vertical-align: middle;\n",
       "    }\n",
       "\n",
       "    .dataframe tbody tr th {\n",
       "        vertical-align: top;\n",
       "    }\n",
       "\n",
       "    .dataframe thead th {\n",
       "        text-align: right;\n",
       "    }\n",
       "</style>\n",
       "<table border=\"1\" class=\"dataframe\">\n",
       "  <thead>\n",
       "    <tr style=\"text-align: right;\">\n",
       "      <th></th>\n",
       "      <th>LastPurchaseDate</th>\n",
       "      <th>Recency</th>\n",
       "      <th>Frequency</th>\n",
       "      <th>Monetary</th>\n",
       "      <th>R</th>\n",
       "      <th>F</th>\n",
       "      <th>M</th>\n",
       "    </tr>\n",
       "    <tr>\n",
       "      <th>CustomerID</th>\n",
       "      <th></th>\n",
       "      <th></th>\n",
       "      <th></th>\n",
       "      <th></th>\n",
       "      <th></th>\n",
       "      <th></th>\n",
       "      <th></th>\n",
       "    </tr>\n",
       "  </thead>\n",
       "  <tbody>\n",
       "    <tr>\n",
       "      <th>12747.0</th>\n",
       "      <td>2011-08-22</td>\n",
       "      <td>109</td>\n",
       "      <td>5</td>\n",
       "      <td>1760.09</td>\n",
       "      <td>3</td>\n",
       "      <td>4</td>\n",
       "      <td>4</td>\n",
       "    </tr>\n",
       "    <tr>\n",
       "      <th>12748.0</th>\n",
       "      <td>2011-09-30</td>\n",
       "      <td>70</td>\n",
       "      <td>96</td>\n",
       "      <td>14680.85</td>\n",
       "      <td>4</td>\n",
       "      <td>4</td>\n",
       "      <td>4</td>\n",
       "    </tr>\n",
       "    <tr>\n",
       "      <th>12749.0</th>\n",
       "      <td>2011-08-01</td>\n",
       "      <td>130</td>\n",
       "      <td>3</td>\n",
       "      <td>2755.23</td>\n",
       "      <td>2</td>\n",
       "      <td>2</td>\n",
       "      <td>4</td>\n",
       "    </tr>\n",
       "    <tr>\n",
       "      <th>12820.0</th>\n",
       "      <td>2011-09-26</td>\n",
       "      <td>74</td>\n",
       "      <td>1</td>\n",
       "      <td>217.77</td>\n",
       "      <td>4</td>\n",
       "      <td>1</td>\n",
       "      <td>1</td>\n",
       "    </tr>\n",
       "    <tr>\n",
       "      <th>12821.0</th>\n",
       "      <td>2011-05-09</td>\n",
       "      <td>214</td>\n",
       "      <td>1</td>\n",
       "      <td>92.72</td>\n",
       "      <td>1</td>\n",
       "      <td>1</td>\n",
       "      <td>1</td>\n",
       "    </tr>\n",
       "  </tbody>\n",
       "</table>\n",
       "</div>"
      ],
      "text/plain": [
       "           LastPurchaseDate  Recency  Frequency  Monetary  R  F  M\n",
       "CustomerID                                                        \n",
       "12747.0          2011-08-22      109          5   1760.09  3  4  4\n",
       "12748.0          2011-09-30       70         96  14680.85  4  4  4\n",
       "12749.0          2011-08-01      130          3   2755.23  2  2  4\n",
       "12820.0          2011-09-26       74          1    217.77  4  1  1\n",
       "12821.0          2011-05-09      214          1     92.72  1  1  1"
      ]
     },
     "execution_count": 23,
     "metadata": {},
     "output_type": "execute_result"
    }
   ],
   "source": [
    "rfm_df = rfm_df.assign(R=r_groups, F=f_groups, M=m_groups)\n",
    "rfm_df.head()"
   ]
  },
  {
   "cell_type": "code",
   "execution_count": 24,
   "metadata": {},
   "outputs": [
    {
     "data": {
      "text/html": [
       "<div>\n",
       "<style scoped>\n",
       "    .dataframe tbody tr th:only-of-type {\n",
       "        vertical-align: middle;\n",
       "    }\n",
       "\n",
       "    .dataframe tbody tr th {\n",
       "        vertical-align: top;\n",
       "    }\n",
       "\n",
       "    .dataframe thead th {\n",
       "        text-align: right;\n",
       "    }\n",
       "</style>\n",
       "<table border=\"1\" class=\"dataframe\">\n",
       "  <thead>\n",
       "    <tr style=\"text-align: right;\">\n",
       "      <th></th>\n",
       "      <th>LastPurchaseDate</th>\n",
       "      <th>Recency</th>\n",
       "      <th>Frequency</th>\n",
       "      <th>Monetary</th>\n",
       "      <th>R</th>\n",
       "      <th>F</th>\n",
       "      <th>M</th>\n",
       "      <th>RFM_Segment</th>\n",
       "      <th>RFM_Score</th>\n",
       "    </tr>\n",
       "    <tr>\n",
       "      <th>CustomerID</th>\n",
       "      <th></th>\n",
       "      <th></th>\n",
       "      <th></th>\n",
       "      <th></th>\n",
       "      <th></th>\n",
       "      <th></th>\n",
       "      <th></th>\n",
       "      <th></th>\n",
       "      <th></th>\n",
       "    </tr>\n",
       "  </thead>\n",
       "  <tbody>\n",
       "    <tr>\n",
       "      <th>12747.0</th>\n",
       "      <td>2011-08-22</td>\n",
       "      <td>109</td>\n",
       "      <td>5</td>\n",
       "      <td>1760.09</td>\n",
       "      <td>3</td>\n",
       "      <td>4</td>\n",
       "      <td>4</td>\n",
       "      <td>344</td>\n",
       "      <td>11</td>\n",
       "    </tr>\n",
       "    <tr>\n",
       "      <th>12748.0</th>\n",
       "      <td>2011-09-30</td>\n",
       "      <td>70</td>\n",
       "      <td>96</td>\n",
       "      <td>14680.85</td>\n",
       "      <td>4</td>\n",
       "      <td>4</td>\n",
       "      <td>4</td>\n",
       "      <td>444</td>\n",
       "      <td>12</td>\n",
       "    </tr>\n",
       "    <tr>\n",
       "      <th>12749.0</th>\n",
       "      <td>2011-08-01</td>\n",
       "      <td>130</td>\n",
       "      <td>3</td>\n",
       "      <td>2755.23</td>\n",
       "      <td>2</td>\n",
       "      <td>2</td>\n",
       "      <td>4</td>\n",
       "      <td>224</td>\n",
       "      <td>8</td>\n",
       "    </tr>\n",
       "    <tr>\n",
       "      <th>12820.0</th>\n",
       "      <td>2011-09-26</td>\n",
       "      <td>74</td>\n",
       "      <td>1</td>\n",
       "      <td>217.77</td>\n",
       "      <td>4</td>\n",
       "      <td>1</td>\n",
       "      <td>1</td>\n",
       "      <td>411</td>\n",
       "      <td>6</td>\n",
       "    </tr>\n",
       "    <tr>\n",
       "      <th>12821.0</th>\n",
       "      <td>2011-05-09</td>\n",
       "      <td>214</td>\n",
       "      <td>1</td>\n",
       "      <td>92.72</td>\n",
       "      <td>1</td>\n",
       "      <td>1</td>\n",
       "      <td>1</td>\n",
       "      <td>111</td>\n",
       "      <td>3</td>\n",
       "    </tr>\n",
       "  </tbody>\n",
       "</table>\n",
       "</div>"
      ],
      "text/plain": [
       "           LastPurchaseDate  Recency  Frequency  Monetary  R  F  M  \\\n",
       "CustomerID                                                           \n",
       "12747.0          2011-08-22      109          5   1760.09  3  4  4   \n",
       "12748.0          2011-09-30       70         96  14680.85  4  4  4   \n",
       "12749.0          2011-08-01      130          3   2755.23  2  2  4   \n",
       "12820.0          2011-09-26       74          1    217.77  4  1  1   \n",
       "12821.0          2011-05-09      214          1     92.72  1  1  1   \n",
       "\n",
       "           RFM_Segment  RFM_Score  \n",
       "CustomerID                         \n",
       "12747.0            344         11  \n",
       "12748.0            444         12  \n",
       "12749.0            224          8  \n",
       "12820.0            411          6  \n",
       "12821.0            111          3  "
      ]
     },
     "execution_count": 24,
     "metadata": {},
     "output_type": "execute_result"
    }
   ],
   "source": [
    "rfm_df['RFM_Segment'] = rfm_df.apply(lambda x: '{}{}{}'.format(x.R, x.F, x.M), axis=1)\n",
    "\n",
    "rfm_df['RFM_Score'] = rfm_df.loc[:, ['R', 'F', 'M']].sum(axis=1)\n",
    "rfm_df.head()"
   ]
  },
  {
   "cell_type": "markdown",
   "metadata": {},
   "source": [
    "### 1. Find out the best customers\n",
    "\n",
    "RFM_Segmentation score must be equal to __444__"
   ]
  },
  {
   "cell_type": "code",
   "execution_count": 25,
   "metadata": {},
   "outputs": [
    {
     "data": {
      "text/plain": [
       "444    211\n",
       "Name: RFM_Segment, dtype: int64"
      ]
     },
     "execution_count": 25,
     "metadata": {},
     "output_type": "execute_result"
    }
   ],
   "source": [
    "rfm_df[rfm_df['RFM_Segment']=='444']['RFM_Segment'].value_counts()"
   ]
  },
  {
   "cell_type": "markdown",
   "metadata": {},
   "source": [
    "### 2. Find out the loyal customers\n",
    "\n",
    "We are treating our most frequent customer as our loyal customer, hence RFM_Segment would be __x4x__"
   ]
  },
  {
   "cell_type": "code",
   "execution_count": 26,
   "metadata": {},
   "outputs": [
    {
     "data": {
      "text/plain": [
       "444    211\n",
       "344    155\n",
       "244     32\n",
       "343     30\n",
       "443     26\n",
       "243     12\n",
       "143      5\n",
       "242      1\n",
       "442      1\n",
       "144      1\n",
       "Name: RFM_Segment, dtype: int64"
      ]
     },
     "execution_count": 26,
     "metadata": {},
     "output_type": "execute_result"
    }
   ],
   "source": [
    "rfm_df[rfm_df.F==4]['RFM_Segment'].value_counts()"
   ]
  },
  {
   "cell_type": "markdown",
   "metadata": {},
   "source": [
    "### 3. Find out the big spenders\n",
    "\n",
    "Since Monetary value distribution is skewed, we might consider our big spender to be filtered by RFM_Segment to __xx3+__"
   ]
  },
  {
   "cell_type": "code",
   "execution_count": 27,
   "metadata": {},
   "outputs": [
    {
     "data": {
      "text/plain": [
       "444    211\n",
       "344    155\n",
       "213    112\n",
       "313    108\n",
       "413    104\n",
       "113     86\n",
       "334     55\n",
       "223     54\n",
       "323     50\n",
       "423     45\n",
       "434     38\n",
       "214     34\n",
       "244     32\n",
       "343     30\n",
       "424     30\n",
       "333     29\n",
       "314     29\n",
       "414     28\n",
       "443     26\n",
       "224     26\n",
       "233     25\n",
       "234     25\n",
       "114     24\n",
       "324     23\n",
       "433     16\n",
       "123     13\n",
       "243     12\n",
       "143      5\n",
       "134      3\n",
       "124      2\n",
       "144      1\n",
       "133      1\n",
       "Name: RFM_Segment, dtype: int64"
      ]
     },
     "execution_count": 27,
     "metadata": {},
     "output_type": "execute_result"
    }
   ],
   "source": [
    "rfm_df[rfm_df.M >= 3]['RFM_Segment'].value_counts()"
   ]
  },
  {
   "cell_type": "markdown",
   "metadata": {},
   "source": [
    "### 4. Find out the almost lost customers\n",
    "\n",
    " - RFM_Segment ==> <=2 <=2 <=2\n",
    " - Or if you have periodic data, like for every financial quarter FY Q1, FY Q2, FY Q3 check the customer trend"
   ]
  },
  {
   "cell_type": "code",
   "execution_count": 28,
   "metadata": {},
   "outputs": [
    {
     "data": {
      "text/plain": [
       "211    192\n",
       "212    163\n",
       "412    126\n",
       "312    112\n",
       "311     91\n",
       "411     78\n",
       "222     22\n",
       "322     21\n",
       "422     14\n",
       "421      4\n",
       "321      3\n",
       "221      3\n",
       "Name: RFM_Segment, dtype: int64"
      ]
     },
     "execution_count": 28,
     "metadata": {},
     "output_type": "execute_result"
    }
   ],
   "source": [
    "rfm_df.query('R<=2 and F<=2 and M<=2')['RFM_Segment'].value_counts()"
   ]
  },
  {
   "cell_type": "markdown",
   "metadata": {},
   "source": [
    "### 5. Find out the lost customers\n",
    "\n",
    "Customers with the lowest score RFM_Segment = 111"
   ]
  },
  {
   "cell_type": "code",
   "execution_count": 29,
   "metadata": {},
   "outputs": [
    {
     "data": {
      "text/plain": [
       "111    333\n",
       "Name: RFM_Segment, dtype: int64"
      ]
     },
     "execution_count": 29,
     "metadata": {},
     "output_type": "execute_result"
    }
   ],
   "source": [
    "rfm_df[rfm_df['RFM_Segment']=='111']['RFM_Segment'].value_counts()"
   ]
  },
  {
   "cell_type": "markdown",
   "metadata": {},
   "source": [
    "## Now that we know our customers segments, how will you target them?\n",
    "\n",
    " - best -> Make them feel valued send vouchers on bday, anniversary\n",
    " - loyal-> Upsell, Crosssell\n",
    " - almost/lost -> Discounts"
   ]
  }
 ],
 "metadata": {
  "kernelspec": {
   "display_name": "Python 3",
   "language": "python",
   "name": "python3"
  },
  "language_info": {
   "codemirror_mode": {
    "name": "ipython",
    "version": 3
   },
   "file_extension": ".py",
   "mimetype": "text/x-python",
   "name": "python",
   "nbconvert_exporter": "python",
   "pygments_lexer": "ipython3",
   "version": "3.6.10"
  }
 },
 "nbformat": 4,
 "nbformat_minor": 4
}
