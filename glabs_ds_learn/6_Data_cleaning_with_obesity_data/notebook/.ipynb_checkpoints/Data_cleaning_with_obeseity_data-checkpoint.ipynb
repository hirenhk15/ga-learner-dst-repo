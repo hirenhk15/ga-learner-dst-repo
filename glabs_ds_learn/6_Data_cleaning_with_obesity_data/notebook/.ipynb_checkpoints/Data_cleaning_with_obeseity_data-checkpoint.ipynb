{
 "cells": [
  {
   "cell_type": "markdown",
   "metadata": {},
   "source": [
    "# Data Cleaning with Obeseity data \n",
    "\n",
    "Data cleaning is such an integral part of data analysis.Unlike on Kaggle,almost all data you see in the real world would be dirty and messy. Some even say data cleaning would take 80% of data analysis time.\n",
    "\n",
    "The very fisrt step of any given data analysis project would be getting to know your data especially when you are dealing a messy one.\n",
    "\n",
    "So, lets clean this messy data to start our analysis"
   ]
  },
  {
   "cell_type": "markdown",
   "metadata": {},
   "source": [
    "## Import Libraries"
   ]
  },
  {
   "cell_type": "code",
   "execution_count": 1,
   "metadata": {},
   "outputs": [],
   "source": [
    "import numpy as np\n",
    "import pandas as pd\n",
    "import seaborn as sns\n",
    "import matplotlib.pyplot as plt"
   ]
  },
  {
   "cell_type": "markdown",
   "metadata": {},
   "source": [
    "## Read and Know Your Data\n",
    "\n",
    "Take a look at our data as below, the data is quite obscure,it's hard to understand for a human,not mentioned for a computer.in this kind of situation,you have ways to get acquaintance with your data as follows:\n",
    "\n",
    "1. Go to the data source page [WHO OBESITY DATA](https://apps.who.int/gho/data/node.main.A900A?lang=en)\n",
    "2. If solution 1 doesn not work or hard to do, you can always go to ask data curator directly."
   ]
  },
  {
   "cell_type": "code",
   "execution_count": 2,
   "metadata": {},
   "outputs": [
    {
     "data": {
      "text/html": [
       "<div>\n",
       "<style scoped>\n",
       "    .dataframe tbody tr th:only-of-type {\n",
       "        vertical-align: middle;\n",
       "    }\n",
       "\n",
       "    .dataframe tbody tr th {\n",
       "        vertical-align: top;\n",
       "    }\n",
       "\n",
       "    .dataframe thead th {\n",
       "        text-align: right;\n",
       "    }\n",
       "</style>\n",
       "<table border=\"1\" class=\"dataframe\">\n",
       "  <thead>\n",
       "    <tr style=\"text-align: right;\">\n",
       "      <th></th>\n",
       "      <th>Unnamed: 0</th>\n",
       "      <th>2016</th>\n",
       "      <th>2016.1</th>\n",
       "      <th>2016.2</th>\n",
       "      <th>2015</th>\n",
       "      <th>2015.1</th>\n",
       "      <th>2015.2</th>\n",
       "      <th>2014</th>\n",
       "      <th>2014.1</th>\n",
       "      <th>2014.2</th>\n",
       "      <th>...</th>\n",
       "      <th>1978.2</th>\n",
       "      <th>1977</th>\n",
       "      <th>1977.1</th>\n",
       "      <th>1977.2</th>\n",
       "      <th>1976</th>\n",
       "      <th>1976.1</th>\n",
       "      <th>1976.2</th>\n",
       "      <th>1975</th>\n",
       "      <th>1975.1</th>\n",
       "      <th>1975.2</th>\n",
       "    </tr>\n",
       "  </thead>\n",
       "  <tbody>\n",
       "    <tr>\n",
       "      <th>0</th>\n",
       "      <td>NaN</td>\n",
       "      <td>Prevalence of obesity among adults, BMI &amp;Great...</td>\n",
       "      <td>Prevalence of obesity among adults, BMI &amp;Great...</td>\n",
       "      <td>Prevalence of obesity among adults, BMI &amp;Great...</td>\n",
       "      <td>Prevalence of obesity among adults, BMI &amp;Great...</td>\n",
       "      <td>Prevalence of obesity among adults, BMI &amp;Great...</td>\n",
       "      <td>Prevalence of obesity among adults, BMI &amp;Great...</td>\n",
       "      <td>Prevalence of obesity among adults, BMI &amp;Great...</td>\n",
       "      <td>Prevalence of obesity among adults, BMI &amp;Great...</td>\n",
       "      <td>Prevalence of obesity among adults, BMI &amp;Great...</td>\n",
       "      <td>...</td>\n",
       "      <td>Prevalence of obesity among adults, BMI &amp;Great...</td>\n",
       "      <td>Prevalence of obesity among adults, BMI &amp;Great...</td>\n",
       "      <td>Prevalence of obesity among adults, BMI &amp;Great...</td>\n",
       "      <td>Prevalence of obesity among adults, BMI &amp;Great...</td>\n",
       "      <td>Prevalence of obesity among adults, BMI &amp;Great...</td>\n",
       "      <td>Prevalence of obesity among adults, BMI &amp;Great...</td>\n",
       "      <td>Prevalence of obesity among adults, BMI &amp;Great...</td>\n",
       "      <td>Prevalence of obesity among adults, BMI &amp;Great...</td>\n",
       "      <td>Prevalence of obesity among adults, BMI &amp;Great...</td>\n",
       "      <td>Prevalence of obesity among adults, BMI &amp;Great...</td>\n",
       "    </tr>\n",
       "    <tr>\n",
       "      <th>1</th>\n",
       "      <td>NaN</td>\n",
       "      <td>18+  years</td>\n",
       "      <td>18+  years</td>\n",
       "      <td>18+  years</td>\n",
       "      <td>18+  years</td>\n",
       "      <td>18+  years</td>\n",
       "      <td>18+  years</td>\n",
       "      <td>18+  years</td>\n",
       "      <td>18+  years</td>\n",
       "      <td>18+  years</td>\n",
       "      <td>...</td>\n",
       "      <td>18+  years</td>\n",
       "      <td>18+  years</td>\n",
       "      <td>18+  years</td>\n",
       "      <td>18+  years</td>\n",
       "      <td>18+  years</td>\n",
       "      <td>18+  years</td>\n",
       "      <td>18+  years</td>\n",
       "      <td>18+  years</td>\n",
       "      <td>18+  years</td>\n",
       "      <td>18+  years</td>\n",
       "    </tr>\n",
       "    <tr>\n",
       "      <th>2</th>\n",
       "      <td>Country</td>\n",
       "      <td>Both sexes</td>\n",
       "      <td>Male</td>\n",
       "      <td>Female</td>\n",
       "      <td>Both sexes</td>\n",
       "      <td>Male</td>\n",
       "      <td>Female</td>\n",
       "      <td>Both sexes</td>\n",
       "      <td>Male</td>\n",
       "      <td>Female</td>\n",
       "      <td>...</td>\n",
       "      <td>Female</td>\n",
       "      <td>Both sexes</td>\n",
       "      <td>Male</td>\n",
       "      <td>Female</td>\n",
       "      <td>Both sexes</td>\n",
       "      <td>Male</td>\n",
       "      <td>Female</td>\n",
       "      <td>Both sexes</td>\n",
       "      <td>Male</td>\n",
       "      <td>Female</td>\n",
       "    </tr>\n",
       "    <tr>\n",
       "      <th>3</th>\n",
       "      <td>Afghanistan</td>\n",
       "      <td>5.5 [3.4-8.1]</td>\n",
       "      <td>3.2 [1.3-6.4]</td>\n",
       "      <td>7.6 [4.3-12.4]</td>\n",
       "      <td>5.2 [3.3-7.7]</td>\n",
       "      <td>3.0 [1.3-6.0]</td>\n",
       "      <td>7.3 [4.1-11.8]</td>\n",
       "      <td>4.9 [3.1-7.3]</td>\n",
       "      <td>2.8 [1.2-5.6]</td>\n",
       "      <td>7.0 [4.0-11.3]</td>\n",
       "      <td>...</td>\n",
       "      <td>0.9 [0.3-2.2]</td>\n",
       "      <td>0.6 [0.2-1.2]</td>\n",
       "      <td>0.2 [0.0-0.7]</td>\n",
       "      <td>0.9 [0.3-2.1]</td>\n",
       "      <td>0.5 [0.2-1.1]</td>\n",
       "      <td>0.2 [0.0-0.7]</td>\n",
       "      <td>0.8 [0.2-2.0]</td>\n",
       "      <td>0.5 [0.2-1.1]</td>\n",
       "      <td>0.2 [0.0-0.6]</td>\n",
       "      <td>0.8 [0.2-2.0]</td>\n",
       "    </tr>\n",
       "    <tr>\n",
       "      <th>4</th>\n",
       "      <td>Albania</td>\n",
       "      <td>21.7 [17.0-26.7]</td>\n",
       "      <td>21.6 [14.8-29.0]</td>\n",
       "      <td>21.8 [15.3-28.9]</td>\n",
       "      <td>21.1 [16.6-26.0]</td>\n",
       "      <td>20.9 [14.4-28.1]</td>\n",
       "      <td>21.3 [15.1-28.1]</td>\n",
       "      <td>20.5 [16.2-25.1]</td>\n",
       "      <td>20.2 [13.9-27.3]</td>\n",
       "      <td>20.8 [14.9-27.4]</td>\n",
       "      <td>...</td>\n",
       "      <td>9.1 [4.6-15.5]</td>\n",
       "      <td>6.8 [4.0-10.7]</td>\n",
       "      <td>4.8 [2.0-9.3]</td>\n",
       "      <td>8.9 [4.3-15.4]</td>\n",
       "      <td>6.7 [3.8-10.6]</td>\n",
       "      <td>4.6 [1.8-9.2]</td>\n",
       "      <td>8.8 [4.1-15.4]</td>\n",
       "      <td>6.5 [3.6-10.5]</td>\n",
       "      <td>4.4 [1.7-9.2]</td>\n",
       "      <td>8.6 [3.9-15.4]</td>\n",
       "    </tr>\n",
       "  </tbody>\n",
       "</table>\n",
       "<p>5 rows × 127 columns</p>\n",
       "</div>"
      ],
      "text/plain": [
       "    Unnamed: 0                                               2016  \\\n",
       "0          NaN  Prevalence of obesity among adults, BMI &Great...   \n",
       "1          NaN                                         18+  years   \n",
       "2      Country                                         Both sexes   \n",
       "3  Afghanistan                                      5.5 [3.4-8.1]   \n",
       "4      Albania                                   21.7 [17.0-26.7]   \n",
       "\n",
       "                                              2016.1  \\\n",
       "0  Prevalence of obesity among adults, BMI &Great...   \n",
       "1                                         18+  years   \n",
       "2                                               Male   \n",
       "3                                      3.2 [1.3-6.4]   \n",
       "4                                   21.6 [14.8-29.0]   \n",
       "\n",
       "                                              2016.2  \\\n",
       "0  Prevalence of obesity among adults, BMI &Great...   \n",
       "1                                         18+  years   \n",
       "2                                             Female   \n",
       "3                                     7.6 [4.3-12.4]   \n",
       "4                                   21.8 [15.3-28.9]   \n",
       "\n",
       "                                                2015  \\\n",
       "0  Prevalence of obesity among adults, BMI &Great...   \n",
       "1                                         18+  years   \n",
       "2                                         Both sexes   \n",
       "3                                      5.2 [3.3-7.7]   \n",
       "4                                   21.1 [16.6-26.0]   \n",
       "\n",
       "                                              2015.1  \\\n",
       "0  Prevalence of obesity among adults, BMI &Great...   \n",
       "1                                         18+  years   \n",
       "2                                               Male   \n",
       "3                                      3.0 [1.3-6.0]   \n",
       "4                                   20.9 [14.4-28.1]   \n",
       "\n",
       "                                              2015.2  \\\n",
       "0  Prevalence of obesity among adults, BMI &Great...   \n",
       "1                                         18+  years   \n",
       "2                                             Female   \n",
       "3                                     7.3 [4.1-11.8]   \n",
       "4                                   21.3 [15.1-28.1]   \n",
       "\n",
       "                                                2014  \\\n",
       "0  Prevalence of obesity among adults, BMI &Great...   \n",
       "1                                         18+  years   \n",
       "2                                         Both sexes   \n",
       "3                                      4.9 [3.1-7.3]   \n",
       "4                                   20.5 [16.2-25.1]   \n",
       "\n",
       "                                              2014.1  \\\n",
       "0  Prevalence of obesity among adults, BMI &Great...   \n",
       "1                                         18+  years   \n",
       "2                                               Male   \n",
       "3                                      2.8 [1.2-5.6]   \n",
       "4                                   20.2 [13.9-27.3]   \n",
       "\n",
       "                                              2014.2  ...  \\\n",
       "0  Prevalence of obesity among adults, BMI &Great...  ...   \n",
       "1                                         18+  years  ...   \n",
       "2                                             Female  ...   \n",
       "3                                     7.0 [4.0-11.3]  ...   \n",
       "4                                   20.8 [14.9-27.4]  ...   \n",
       "\n",
       "                                              1978.2  \\\n",
       "0  Prevalence of obesity among adults, BMI &Great...   \n",
       "1                                         18+  years   \n",
       "2                                             Female   \n",
       "3                                      0.9 [0.3-2.2]   \n",
       "4                                     9.1 [4.6-15.5]   \n",
       "\n",
       "                                                1977  \\\n",
       "0  Prevalence of obesity among adults, BMI &Great...   \n",
       "1                                         18+  years   \n",
       "2                                         Both sexes   \n",
       "3                                      0.6 [0.2-1.2]   \n",
       "4                                     6.8 [4.0-10.7]   \n",
       "\n",
       "                                              1977.1  \\\n",
       "0  Prevalence of obesity among adults, BMI &Great...   \n",
       "1                                         18+  years   \n",
       "2                                               Male   \n",
       "3                                      0.2 [0.0-0.7]   \n",
       "4                                      4.8 [2.0-9.3]   \n",
       "\n",
       "                                              1977.2  \\\n",
       "0  Prevalence of obesity among adults, BMI &Great...   \n",
       "1                                         18+  years   \n",
       "2                                             Female   \n",
       "3                                      0.9 [0.3-2.1]   \n",
       "4                                     8.9 [4.3-15.4]   \n",
       "\n",
       "                                                1976  \\\n",
       "0  Prevalence of obesity among adults, BMI &Great...   \n",
       "1                                         18+  years   \n",
       "2                                         Both sexes   \n",
       "3                                      0.5 [0.2-1.1]   \n",
       "4                                     6.7 [3.8-10.6]   \n",
       "\n",
       "                                              1976.1  \\\n",
       "0  Prevalence of obesity among adults, BMI &Great...   \n",
       "1                                         18+  years   \n",
       "2                                               Male   \n",
       "3                                      0.2 [0.0-0.7]   \n",
       "4                                      4.6 [1.8-9.2]   \n",
       "\n",
       "                                              1976.2  \\\n",
       "0  Prevalence of obesity among adults, BMI &Great...   \n",
       "1                                         18+  years   \n",
       "2                                             Female   \n",
       "3                                      0.8 [0.2-2.0]   \n",
       "4                                     8.8 [4.1-15.4]   \n",
       "\n",
       "                                                1975  \\\n",
       "0  Prevalence of obesity among adults, BMI &Great...   \n",
       "1                                         18+  years   \n",
       "2                                         Both sexes   \n",
       "3                                      0.5 [0.2-1.1]   \n",
       "4                                     6.5 [3.6-10.5]   \n",
       "\n",
       "                                              1975.1  \\\n",
       "0  Prevalence of obesity among adults, BMI &Great...   \n",
       "1                                         18+  years   \n",
       "2                                               Male   \n",
       "3                                      0.2 [0.0-0.6]   \n",
       "4                                      4.4 [1.7-9.2]   \n",
       "\n",
       "                                              1975.2  \n",
       "0  Prevalence of obesity among adults, BMI &Great...  \n",
       "1                                         18+  years  \n",
       "2                                             Female  \n",
       "3                                      0.8 [0.2-2.0]  \n",
       "4                                     8.6 [3.9-15.4]  \n",
       "\n",
       "[5 rows x 127 columns]"
      ]
     },
     "execution_count": 2,
     "metadata": {},
     "output_type": "execute_result"
    }
   ],
   "source": [
    "df = pd.read_csv('../data/data.csv')\n",
    "df.head()"
   ]
  },
  {
   "cell_type": "markdown",
   "metadata": {},
   "source": [
    "## Why and how the data is messy?\n",
    "\n",
    "In most cases, data is collected by human or machines,a tiny glich would cause a long strip of bad data.if the data is collected by human, then it is a big chance that it would be messy. data can be dirty in many different ways,but mostly fall into those categories :\n",
    "\n",
    "1. Missing data : like NAN\n",
    "2. Validity of data : like 2016.1 / 2016.2 in the column\n",
    "3. Outliers : like if a BMI entry is greater than 100\n",
    "4. Consistency of data : the unit of every entry is not the same\n",
    "5. Correctness of data: we are not gonna go through this ,but it is an important part of doing analysis in bussiness world, basically you need external data source or database to cross check the data in your hand because as we always say:\n",
    "\n",
    "You dont know what you dont know\n",
    "\n",
    "6. Data is in wide form not in long form : we are gonna go deeper about this one.\n",
    "\n",
    "Are you ready, it's time to get our hands dirty"
   ]
  },
  {
   "cell_type": "markdown",
   "metadata": {},
   "source": [
    "## long form VS wide form\n",
    "\n",
    "The original data we have here is in wide form which means the form is very wide literally.\n",
    "\n",
    "The .1 .2 in year number stand for gender, we gonna fix that later.\n",
    "\n",
    "Wide data is not easy to analyze or stored effectively in computer, so we want to change it as soon as we can. go to read this tidy-data if you want to know more.\n",
    "\n"
   ]
  },
  {
   "cell_type": "markdown",
   "metadata": {},
   "source": [
    "### Rename the columns appropriately and unpivot the data in the desirable format using pandas melt()."
   ]
  },
  {
   "cell_type": "code",
   "execution_count": 3,
   "metadata": {},
   "outputs": [
    {
     "data": {
      "text/plain": [
       "Index(['Unnamed: 0', '2016', '2016.1', '2016.2', '2015', '2015.1', '2015.2',\n",
       "       '2014', '2014.1', '2014.2',\n",
       "       ...\n",
       "       '1978.2', '1977', '1977.1', '1977.2', '1976', '1976.1', '1976.2',\n",
       "       '1975', '1975.1', '1975.2'],\n",
       "      dtype='object', length=127)"
      ]
     },
     "execution_count": 3,
     "metadata": {},
     "output_type": "execute_result"
    }
   ],
   "source": [
    "df.columns"
   ]
  },
  {
   "cell_type": "code",
   "execution_count": 4,
   "metadata": {},
   "outputs": [
    {
     "data": {
      "text/plain": [
       "Index(['Country', '2016', '2016.1', '2016.2', '2015', '2015.1', '2015.2',\n",
       "       '2014', '2014.1', '2014.2',\n",
       "       ...\n",
       "       '1978.2', '1977', '1977.1', '1977.2', '1976', '1976.1', '1976.2',\n",
       "       '1975', '1975.1', '1975.2'],\n",
       "      dtype='object', length=127)"
      ]
     },
     "execution_count": 4,
     "metadata": {},
     "output_type": "execute_result"
    }
   ],
   "source": [
    "df.rename(columns={'Unnamed: 0': 'Country'}, inplace=True)\n",
    "df.columns"
   ]
  },
  {
   "cell_type": "markdown",
   "metadata": {},
   "source": [
    "## Correct the format\n",
    "\n",
    "**1. We will drop the first 3 row since its actually headers in the original forms.**"
   ]
  },
  {
   "cell_type": "code",
   "execution_count": 5,
   "metadata": {},
   "outputs": [
    {
     "data": {
      "text/html": [
       "<div>\n",
       "<style scoped>\n",
       "    .dataframe tbody tr th:only-of-type {\n",
       "        vertical-align: middle;\n",
       "    }\n",
       "\n",
       "    .dataframe tbody tr th {\n",
       "        vertical-align: top;\n",
       "    }\n",
       "\n",
       "    .dataframe thead th {\n",
       "        text-align: right;\n",
       "    }\n",
       "</style>\n",
       "<table border=\"1\" class=\"dataframe\">\n",
       "  <thead>\n",
       "    <tr style=\"text-align: right;\">\n",
       "      <th></th>\n",
       "      <th>Country</th>\n",
       "      <th>2016</th>\n",
       "      <th>2016.1</th>\n",
       "      <th>2016.2</th>\n",
       "      <th>2015</th>\n",
       "      <th>2015.1</th>\n",
       "      <th>2015.2</th>\n",
       "      <th>2014</th>\n",
       "      <th>2014.1</th>\n",
       "      <th>2014.2</th>\n",
       "      <th>...</th>\n",
       "      <th>1978.2</th>\n",
       "      <th>1977</th>\n",
       "      <th>1977.1</th>\n",
       "      <th>1977.2</th>\n",
       "      <th>1976</th>\n",
       "      <th>1976.1</th>\n",
       "      <th>1976.2</th>\n",
       "      <th>1975</th>\n",
       "      <th>1975.1</th>\n",
       "      <th>1975.2</th>\n",
       "    </tr>\n",
       "  </thead>\n",
       "  <tbody>\n",
       "    <tr>\n",
       "      <th>3</th>\n",
       "      <td>Afghanistan</td>\n",
       "      <td>5.5 [3.4-8.1]</td>\n",
       "      <td>3.2 [1.3-6.4]</td>\n",
       "      <td>7.6 [4.3-12.4]</td>\n",
       "      <td>5.2 [3.3-7.7]</td>\n",
       "      <td>3.0 [1.3-6.0]</td>\n",
       "      <td>7.3 [4.1-11.8]</td>\n",
       "      <td>4.9 [3.1-7.3]</td>\n",
       "      <td>2.8 [1.2-5.6]</td>\n",
       "      <td>7.0 [4.0-11.3]</td>\n",
       "      <td>...</td>\n",
       "      <td>0.9 [0.3-2.2]</td>\n",
       "      <td>0.6 [0.2-1.2]</td>\n",
       "      <td>0.2 [0.0-0.7]</td>\n",
       "      <td>0.9 [0.3-2.1]</td>\n",
       "      <td>0.5 [0.2-1.1]</td>\n",
       "      <td>0.2 [0.0-0.7]</td>\n",
       "      <td>0.8 [0.2-2.0]</td>\n",
       "      <td>0.5 [0.2-1.1]</td>\n",
       "      <td>0.2 [0.0-0.6]</td>\n",
       "      <td>0.8 [0.2-2.0]</td>\n",
       "    </tr>\n",
       "    <tr>\n",
       "      <th>4</th>\n",
       "      <td>Albania</td>\n",
       "      <td>21.7 [17.0-26.7]</td>\n",
       "      <td>21.6 [14.8-29.0]</td>\n",
       "      <td>21.8 [15.3-28.9]</td>\n",
       "      <td>21.1 [16.6-26.0]</td>\n",
       "      <td>20.9 [14.4-28.1]</td>\n",
       "      <td>21.3 [15.1-28.1]</td>\n",
       "      <td>20.5 [16.2-25.1]</td>\n",
       "      <td>20.2 [13.9-27.3]</td>\n",
       "      <td>20.8 [14.9-27.4]</td>\n",
       "      <td>...</td>\n",
       "      <td>9.1 [4.6-15.5]</td>\n",
       "      <td>6.8 [4.0-10.7]</td>\n",
       "      <td>4.8 [2.0-9.3]</td>\n",
       "      <td>8.9 [4.3-15.4]</td>\n",
       "      <td>6.7 [3.8-10.6]</td>\n",
       "      <td>4.6 [1.8-9.2]</td>\n",
       "      <td>8.8 [4.1-15.4]</td>\n",
       "      <td>6.5 [3.6-10.5]</td>\n",
       "      <td>4.4 [1.7-9.2]</td>\n",
       "      <td>8.6 [3.9-15.4]</td>\n",
       "    </tr>\n",
       "  </tbody>\n",
       "</table>\n",
       "<p>2 rows × 127 columns</p>\n",
       "</div>"
      ],
      "text/plain": [
       "       Country              2016            2016.1            2016.2  \\\n",
       "3  Afghanistan     5.5 [3.4-8.1]     3.2 [1.3-6.4]    7.6 [4.3-12.4]   \n",
       "4      Albania  21.7 [17.0-26.7]  21.6 [14.8-29.0]  21.8 [15.3-28.9]   \n",
       "\n",
       "               2015            2015.1            2015.2              2014  \\\n",
       "3     5.2 [3.3-7.7]     3.0 [1.3-6.0]    7.3 [4.1-11.8]     4.9 [3.1-7.3]   \n",
       "4  21.1 [16.6-26.0]  20.9 [14.4-28.1]  21.3 [15.1-28.1]  20.5 [16.2-25.1]   \n",
       "\n",
       "             2014.1            2014.2  ...          1978.2            1977  \\\n",
       "3     2.8 [1.2-5.6]    7.0 [4.0-11.3]  ...   0.9 [0.3-2.2]   0.6 [0.2-1.2]   \n",
       "4  20.2 [13.9-27.3]  20.8 [14.9-27.4]  ...  9.1 [4.6-15.5]  6.8 [4.0-10.7]   \n",
       "\n",
       "          1977.1          1977.2            1976         1976.1  \\\n",
       "3  0.2 [0.0-0.7]   0.9 [0.3-2.1]   0.5 [0.2-1.1]  0.2 [0.0-0.7]   \n",
       "4  4.8 [2.0-9.3]  8.9 [4.3-15.4]  6.7 [3.8-10.6]  4.6 [1.8-9.2]   \n",
       "\n",
       "           1976.2            1975         1975.1          1975.2  \n",
       "3   0.8 [0.2-2.0]   0.5 [0.2-1.1]  0.2 [0.0-0.6]   0.8 [0.2-2.0]  \n",
       "4  8.8 [4.1-15.4]  6.5 [3.6-10.5]  4.4 [1.7-9.2]  8.6 [3.9-15.4]  \n",
       "\n",
       "[2 rows x 127 columns]"
      ]
     },
     "execution_count": 5,
     "metadata": {},
     "output_type": "execute_result"
    }
   ],
   "source": [
    "df.drop([0, 1, 2], inplace=True)\n",
    "df.head(2)"
   ]
  },
  {
   "cell_type": "markdown",
   "metadata": {},
   "source": [
    "**2. Correct year value**"
   ]
  },
  {
   "cell_type": "code",
   "execution_count": 6,
   "metadata": {},
   "outputs": [
    {
     "data": {
      "text/html": [
       "<div>\n",
       "<style scoped>\n",
       "    .dataframe tbody tr th:only-of-type {\n",
       "        vertical-align: middle;\n",
       "    }\n",
       "\n",
       "    .dataframe tbody tr th {\n",
       "        vertical-align: top;\n",
       "    }\n",
       "\n",
       "    .dataframe thead th {\n",
       "        text-align: right;\n",
       "    }\n",
       "</style>\n",
       "<table border=\"1\" class=\"dataframe\">\n",
       "  <thead>\n",
       "    <tr style=\"text-align: right;\">\n",
       "      <th></th>\n",
       "      <th>Country</th>\n",
       "      <th>Year</th>\n",
       "      <th>value</th>\n",
       "    </tr>\n",
       "  </thead>\n",
       "  <tbody>\n",
       "    <tr>\n",
       "      <th>0</th>\n",
       "      <td>Afghanistan</td>\n",
       "      <td>2016</td>\n",
       "      <td>5.5 [3.4-8.1]</td>\n",
       "    </tr>\n",
       "    <tr>\n",
       "      <th>1</th>\n",
       "      <td>Albania</td>\n",
       "      <td>2016</td>\n",
       "      <td>21.7 [17.0-26.7]</td>\n",
       "    </tr>\n",
       "    <tr>\n",
       "      <th>2</th>\n",
       "      <td>Algeria</td>\n",
       "      <td>2016</td>\n",
       "      <td>27.4 [22.5-32.7]</td>\n",
       "    </tr>\n",
       "    <tr>\n",
       "      <th>3</th>\n",
       "      <td>Andorra</td>\n",
       "      <td>2016</td>\n",
       "      <td>25.6 [20.1-31.3]</td>\n",
       "    </tr>\n",
       "    <tr>\n",
       "      <th>4</th>\n",
       "      <td>Angola</td>\n",
       "      <td>2016</td>\n",
       "      <td>8.2 [5.1-12.2]</td>\n",
       "    </tr>\n",
       "  </tbody>\n",
       "</table>\n",
       "</div>"
      ],
      "text/plain": [
       "       Country  Year             value\n",
       "0  Afghanistan  2016     5.5 [3.4-8.1]\n",
       "1      Albania  2016  21.7 [17.0-26.7]\n",
       "2      Algeria  2016  27.4 [22.5-32.7]\n",
       "3      Andorra  2016  25.6 [20.1-31.3]\n",
       "4       Angola  2016    8.2 [5.1-12.2]"
      ]
     },
     "execution_count": 6,
     "metadata": {},
     "output_type": "execute_result"
    }
   ],
   "source": [
    "df = df.melt(id_vars=['Country'], var_name='Year')\n",
    "df.head()"
   ]
  },
  {
   "cell_type": "code",
   "execution_count": 7,
   "metadata": {},
   "outputs": [],
   "source": [
    "# Drop null values\n",
    "df.drop(df.query(\"value == 'No data'\").index, inplace=True)"
   ]
  },
  {
   "cell_type": "code",
   "execution_count": 8,
   "metadata": {},
   "outputs": [],
   "source": [
    "# Dropping multiple entries for BMI for Sudan (former)\n",
    "df.drop(df.query(\"Country == 'Sudan (former)'\").index, inplace=True)"
   ]
  },
  {
   "cell_type": "code",
   "execution_count": 9,
   "metadata": {},
   "outputs": [
    {
     "data": {
      "text/html": [
       "<div>\n",
       "<style scoped>\n",
       "    .dataframe tbody tr th:only-of-type {\n",
       "        vertical-align: middle;\n",
       "    }\n",
       "\n",
       "    .dataframe tbody tr th {\n",
       "        vertical-align: top;\n",
       "    }\n",
       "\n",
       "    .dataframe thead th {\n",
       "        text-align: right;\n",
       "    }\n",
       "</style>\n",
       "<table border=\"1\" class=\"dataframe\">\n",
       "  <thead>\n",
       "    <tr style=\"text-align: right;\">\n",
       "      <th></th>\n",
       "      <th>Country</th>\n",
       "      <th>Year</th>\n",
       "      <th>value</th>\n",
       "    </tr>\n",
       "  </thead>\n",
       "  <tbody>\n",
       "    <tr>\n",
       "      <th>0</th>\n",
       "      <td>Afghanistan</td>\n",
       "      <td>2016</td>\n",
       "      <td>5.5 [3.4-8.1]</td>\n",
       "    </tr>\n",
       "    <tr>\n",
       "      <th>1</th>\n",
       "      <td>Albania</td>\n",
       "      <td>2016</td>\n",
       "      <td>21.7 [17.0-26.7]</td>\n",
       "    </tr>\n",
       "    <tr>\n",
       "      <th>2</th>\n",
       "      <td>Algeria</td>\n",
       "      <td>2016</td>\n",
       "      <td>27.4 [22.5-32.7]</td>\n",
       "    </tr>\n",
       "    <tr>\n",
       "      <th>3</th>\n",
       "      <td>Andorra</td>\n",
       "      <td>2016</td>\n",
       "      <td>25.6 [20.1-31.3]</td>\n",
       "    </tr>\n",
       "    <tr>\n",
       "      <th>4</th>\n",
       "      <td>Angola</td>\n",
       "      <td>2016</td>\n",
       "      <td>8.2 [5.1-12.2]</td>\n",
       "    </tr>\n",
       "  </tbody>\n",
       "</table>\n",
       "</div>"
      ],
      "text/plain": [
       "       Country  Year             value\n",
       "0  Afghanistan  2016     5.5 [3.4-8.1]\n",
       "1      Albania  2016  21.7 [17.0-26.7]\n",
       "2      Algeria  2016  27.4 [22.5-32.7]\n",
       "3      Andorra  2016  25.6 [20.1-31.3]\n",
       "4       Angola  2016    8.2 [5.1-12.2]"
      ]
     },
     "execution_count": 9,
     "metadata": {},
     "output_type": "execute_result"
    }
   ],
   "source": [
    "df.head()"
   ]
  },
  {
   "cell_type": "code",
   "execution_count": 10,
   "metadata": {},
   "outputs": [
    {
     "data": {
      "text/html": [
       "<div>\n",
       "<style scoped>\n",
       "    .dataframe tbody tr th:only-of-type {\n",
       "        vertical-align: middle;\n",
       "    }\n",
       "\n",
       "    .dataframe tbody tr th {\n",
       "        vertical-align: top;\n",
       "    }\n",
       "\n",
       "    .dataframe thead th {\n",
       "        text-align: right;\n",
       "    }\n",
       "</style>\n",
       "<table border=\"1\" class=\"dataframe\">\n",
       "  <thead>\n",
       "    <tr style=\"text-align: right;\">\n",
       "      <th></th>\n",
       "      <th>Country</th>\n",
       "      <th>Year</th>\n",
       "      <th>value</th>\n",
       "      <th>Gender</th>\n",
       "    </tr>\n",
       "  </thead>\n",
       "  <tbody>\n",
       "    <tr>\n",
       "      <th>0</th>\n",
       "      <td>Afghanistan</td>\n",
       "      <td>2016</td>\n",
       "      <td>5.5 [3.4-8.1]</td>\n",
       "      <td>None</td>\n",
       "    </tr>\n",
       "    <tr>\n",
       "      <th>1</th>\n",
       "      <td>Albania</td>\n",
       "      <td>2016</td>\n",
       "      <td>21.7 [17.0-26.7]</td>\n",
       "      <td>None</td>\n",
       "    </tr>\n",
       "    <tr>\n",
       "      <th>2</th>\n",
       "      <td>Algeria</td>\n",
       "      <td>2016</td>\n",
       "      <td>27.4 [22.5-32.7]</td>\n",
       "      <td>None</td>\n",
       "    </tr>\n",
       "    <tr>\n",
       "      <th>3</th>\n",
       "      <td>Andorra</td>\n",
       "      <td>2016</td>\n",
       "      <td>25.6 [20.1-31.3]</td>\n",
       "      <td>None</td>\n",
       "    </tr>\n",
       "    <tr>\n",
       "      <th>4</th>\n",
       "      <td>Angola</td>\n",
       "      <td>2016</td>\n",
       "      <td>8.2 [5.1-12.2]</td>\n",
       "      <td>None</td>\n",
       "    </tr>\n",
       "  </tbody>\n",
       "</table>\n",
       "</div>"
      ],
      "text/plain": [
       "       Country  Year             value Gender\n",
       "0  Afghanistan  2016     5.5 [3.4-8.1]   None\n",
       "1      Albania  2016  21.7 [17.0-26.7]   None\n",
       "2      Algeria  2016  27.4 [22.5-32.7]   None\n",
       "3      Andorra  2016  25.6 [20.1-31.3]   None\n",
       "4       Angola  2016    8.2 [5.1-12.2]   None"
      ]
     },
     "execution_count": 10,
     "metadata": {},
     "output_type": "execute_result"
    }
   ],
   "source": [
    "df[['Year', 'Gender']] = df['Year'].str.split('.', expand=True)\n",
    "df.head()"
   ]
  },
  {
   "cell_type": "markdown",
   "metadata": {},
   "source": [
    "**3. Correct the gender value**"
   ]
  },
  {
   "cell_type": "code",
   "execution_count": 11,
   "metadata": {},
   "outputs": [
    {
     "data": {
      "text/html": [
       "<div>\n",
       "<style scoped>\n",
       "    .dataframe tbody tr th:only-of-type {\n",
       "        vertical-align: middle;\n",
       "    }\n",
       "\n",
       "    .dataframe tbody tr th {\n",
       "        vertical-align: top;\n",
       "    }\n",
       "\n",
       "    .dataframe thead th {\n",
       "        text-align: right;\n",
       "    }\n",
       "</style>\n",
       "<table border=\"1\" class=\"dataframe\">\n",
       "  <thead>\n",
       "    <tr style=\"text-align: right;\">\n",
       "      <th></th>\n",
       "      <th>Country</th>\n",
       "      <th>Year</th>\n",
       "      <th>value</th>\n",
       "      <th>Gender</th>\n",
       "    </tr>\n",
       "  </thead>\n",
       "  <tbody>\n",
       "    <tr>\n",
       "      <th>0</th>\n",
       "      <td>Afghanistan</td>\n",
       "      <td>2016</td>\n",
       "      <td>5.5 [3.4-8.1]</td>\n",
       "      <td>both</td>\n",
       "    </tr>\n",
       "    <tr>\n",
       "      <th>1</th>\n",
       "      <td>Albania</td>\n",
       "      <td>2016</td>\n",
       "      <td>21.7 [17.0-26.7]</td>\n",
       "      <td>both</td>\n",
       "    </tr>\n",
       "    <tr>\n",
       "      <th>2</th>\n",
       "      <td>Algeria</td>\n",
       "      <td>2016</td>\n",
       "      <td>27.4 [22.5-32.7]</td>\n",
       "      <td>both</td>\n",
       "    </tr>\n",
       "    <tr>\n",
       "      <th>3</th>\n",
       "      <td>Andorra</td>\n",
       "      <td>2016</td>\n",
       "      <td>25.6 [20.1-31.3]</td>\n",
       "      <td>both</td>\n",
       "    </tr>\n",
       "    <tr>\n",
       "      <th>4</th>\n",
       "      <td>Angola</td>\n",
       "      <td>2016</td>\n",
       "      <td>8.2 [5.1-12.2]</td>\n",
       "      <td>both</td>\n",
       "    </tr>\n",
       "  </tbody>\n",
       "</table>\n",
       "</div>"
      ],
      "text/plain": [
       "       Country  Year             value Gender\n",
       "0  Afghanistan  2016     5.5 [3.4-8.1]   both\n",
       "1      Albania  2016  21.7 [17.0-26.7]   both\n",
       "2      Algeria  2016  27.4 [22.5-32.7]   both\n",
       "3      Andorra  2016  25.6 [20.1-31.3]   both\n",
       "4       Angola  2016    8.2 [5.1-12.2]   both"
      ]
     },
     "execution_count": 11,
     "metadata": {},
     "output_type": "execute_result"
    }
   ],
   "source": [
    "df['Gender'].replace({'1': 'male', '2': 'female', pd.NA: 'both'}, inplace=True)\n",
    "df.head()"
   ]
  },
  {
   "cell_type": "markdown",
   "metadata": {},
   "source": [
    "## Correct the BMI value columns\n",
    "\n",
    "From the webpage of WHO we can know that the values in [] are actually estimation intervel，so we need to seperate them into 3 columns\n",
    "\n",
    "you can use str.matach() or str.findall() with regular expression to extract float number in this field,but we are gonna use str.split()"
   ]
  },
  {
   "cell_type": "code",
   "execution_count": 12,
   "metadata": {},
   "outputs": [
    {
     "data": {
      "text/html": [
       "<div>\n",
       "<style scoped>\n",
       "    .dataframe tbody tr th:only-of-type {\n",
       "        vertical-align: middle;\n",
       "    }\n",
       "\n",
       "    .dataframe tbody tr th {\n",
       "        vertical-align: top;\n",
       "    }\n",
       "\n",
       "    .dataframe thead th {\n",
       "        text-align: right;\n",
       "    }\n",
       "</style>\n",
       "<table border=\"1\" class=\"dataframe\">\n",
       "  <thead>\n",
       "    <tr style=\"text-align: right;\">\n",
       "      <th></th>\n",
       "      <th>Country</th>\n",
       "      <th>Year</th>\n",
       "      <th>Gender</th>\n",
       "      <th>BMI</th>\n",
       "      <th>BMI_lower</th>\n",
       "      <th>BMI_upper</th>\n",
       "    </tr>\n",
       "  </thead>\n",
       "  <tbody>\n",
       "    <tr>\n",
       "      <th>0</th>\n",
       "      <td>Afghanistan</td>\n",
       "      <td>2016</td>\n",
       "      <td>both</td>\n",
       "      <td>5.5</td>\n",
       "      <td>3.4</td>\n",
       "      <td>8.1</td>\n",
       "    </tr>\n",
       "    <tr>\n",
       "      <th>1</th>\n",
       "      <td>Albania</td>\n",
       "      <td>2016</td>\n",
       "      <td>both</td>\n",
       "      <td>21.7</td>\n",
       "      <td>17.0</td>\n",
       "      <td>26.7</td>\n",
       "    </tr>\n",
       "    <tr>\n",
       "      <th>2</th>\n",
       "      <td>Algeria</td>\n",
       "      <td>2016</td>\n",
       "      <td>both</td>\n",
       "      <td>27.4</td>\n",
       "      <td>22.5</td>\n",
       "      <td>32.7</td>\n",
       "    </tr>\n",
       "    <tr>\n",
       "      <th>3</th>\n",
       "      <td>Andorra</td>\n",
       "      <td>2016</td>\n",
       "      <td>both</td>\n",
       "      <td>25.6</td>\n",
       "      <td>20.1</td>\n",
       "      <td>31.3</td>\n",
       "    </tr>\n",
       "    <tr>\n",
       "      <th>4</th>\n",
       "      <td>Angola</td>\n",
       "      <td>2016</td>\n",
       "      <td>both</td>\n",
       "      <td>8.2</td>\n",
       "      <td>5.1</td>\n",
       "      <td>12.2</td>\n",
       "    </tr>\n",
       "  </tbody>\n",
       "</table>\n",
       "</div>"
      ],
      "text/plain": [
       "       Country  Year Gender    BMI BMI_lower BMI_upper\n",
       "0  Afghanistan  2016   both   5.5        3.4       8.1\n",
       "1      Albania  2016   both  21.7       17.0      26.7\n",
       "2      Algeria  2016   both  27.4       22.5      32.7\n",
       "3      Andorra  2016   both  25.6       20.1      31.3\n",
       "4       Angola  2016   both   8.2        5.1      12.2"
      ]
     },
     "execution_count": 12,
     "metadata": {},
     "output_type": "execute_result"
    }
   ],
   "source": [
    "df[['BMI', 'BMI_lower', 'BMI_upper']] = df['value'].str.split(r'[-\\]\\[]', expand=True).iloc[:, :3]\n",
    "df.drop('value', axis=1, inplace=True)\n",
    "df.head()"
   ]
  },
  {
   "cell_type": "code",
   "execution_count": 13,
   "metadata": {},
   "outputs": [
    {
     "data": {
      "text/plain": [
       "Country      object\n",
       "Year         object\n",
       "Gender       object\n",
       "BMI          object\n",
       "BMI_lower    object\n",
       "BMI_upper    object\n",
       "dtype: object"
      ]
     },
     "execution_count": 13,
     "metadata": {},
     "output_type": "execute_result"
    }
   ],
   "source": [
    "df.dtypes"
   ]
  },
  {
   "cell_type": "code",
   "execution_count": 14,
   "metadata": {},
   "outputs": [
    {
     "data": {
      "text/plain": [
       "Country       object\n",
       "Year           int32\n",
       "Gender        object\n",
       "BMI          float64\n",
       "BMI_lower    float64\n",
       "BMI_upper    float64\n",
       "dtype: object"
      ]
     },
     "execution_count": 14,
     "metadata": {},
     "output_type": "execute_result"
    }
   ],
   "source": [
    "int_cols = ['Year']\n",
    "numeric_cols = ['BMI', 'BMI_lower', 'BMI_upper']\n",
    "df[numeric_cols] = df[numeric_cols].astype(float)\n",
    "df[int_cols] = df[int_cols].astype(int)\n",
    "df.dtypes"
   ]
  },
  {
   "cell_type": "code",
   "execution_count": 15,
   "metadata": {},
   "outputs": [
    {
     "data": {
      "text/plain": [
       "Country      0\n",
       "Year         0\n",
       "Gender       0\n",
       "BMI          0\n",
       "BMI_lower    0\n",
       "BMI_upper    0\n",
       "dtype: int64"
      ]
     },
     "execution_count": 15,
     "metadata": {},
     "output_type": "execute_result"
    }
   ],
   "source": [
    "# Check if null values present or not!\n",
    "# df.isnull().sum()\n",
    "df.isna().sum()"
   ]
  },
  {
   "cell_type": "code",
   "execution_count": 16,
   "metadata": {},
   "outputs": [
    {
     "data": {
      "text/html": [
       "<div>\n",
       "<style scoped>\n",
       "    .dataframe tbody tr th:only-of-type {\n",
       "        vertical-align: middle;\n",
       "    }\n",
       "\n",
       "    .dataframe tbody tr th {\n",
       "        vertical-align: top;\n",
       "    }\n",
       "\n",
       "    .dataframe thead th {\n",
       "        text-align: right;\n",
       "    }\n",
       "</style>\n",
       "<table border=\"1\" class=\"dataframe\">\n",
       "  <thead>\n",
       "    <tr style=\"text-align: right;\">\n",
       "      <th></th>\n",
       "      <th>BMI</th>\n",
       "      <th>BMI_lower</th>\n",
       "      <th>BMI_upper</th>\n",
       "    </tr>\n",
       "  </thead>\n",
       "  <tbody>\n",
       "    <tr>\n",
       "      <th>count</th>\n",
       "      <td>23940.000000</td>\n",
       "      <td>23940.000000</td>\n",
       "      <td>23940.000000</td>\n",
       "    </tr>\n",
       "    <tr>\n",
       "      <th>mean</th>\n",
       "      <td>12.494666</td>\n",
       "      <td>9.274298</td>\n",
       "      <td>16.286186</td>\n",
       "    </tr>\n",
       "    <tr>\n",
       "      <th>std</th>\n",
       "      <td>10.413665</td>\n",
       "      <td>8.861679</td>\n",
       "      <td>12.008231</td>\n",
       "    </tr>\n",
       "    <tr>\n",
       "      <th>min</th>\n",
       "      <td>0.100000</td>\n",
       "      <td>0.000000</td>\n",
       "      <td>0.200000</td>\n",
       "    </tr>\n",
       "    <tr>\n",
       "      <th>25%</th>\n",
       "      <td>4.000000</td>\n",
       "      <td>2.200000</td>\n",
       "      <td>6.400000</td>\n",
       "    </tr>\n",
       "    <tr>\n",
       "      <th>50%</th>\n",
       "      <td>10.700000</td>\n",
       "      <td>7.100000</td>\n",
       "      <td>14.900000</td>\n",
       "    </tr>\n",
       "    <tr>\n",
       "      <th>75%</th>\n",
       "      <td>18.200000</td>\n",
       "      <td>13.900000</td>\n",
       "      <td>23.100000</td>\n",
       "    </tr>\n",
       "    <tr>\n",
       "      <th>max</th>\n",
       "      <td>63.300000</td>\n",
       "      <td>55.600000</td>\n",
       "      <td>70.800000</td>\n",
       "    </tr>\n",
       "  </tbody>\n",
       "</table>\n",
       "</div>"
      ],
      "text/plain": [
       "                BMI     BMI_lower     BMI_upper\n",
       "count  23940.000000  23940.000000  23940.000000\n",
       "mean      12.494666      9.274298     16.286186\n",
       "std       10.413665      8.861679     12.008231\n",
       "min        0.100000      0.000000      0.200000\n",
       "25%        4.000000      2.200000      6.400000\n",
       "50%       10.700000      7.100000     14.900000\n",
       "75%       18.200000     13.900000     23.100000\n",
       "max       63.300000     55.600000     70.800000"
      ]
     },
     "execution_count": 16,
     "metadata": {},
     "output_type": "execute_result"
    }
   ],
   "source": [
    "df[numeric_cols].describe()"
   ]
  },
  {
   "cell_type": "markdown",
   "metadata": {},
   "source": [
    "## Visualization and EDA\n",
    "\n",
    "### What we know：\n",
    "\n",
    "1. 4 contries have no BMI data which are Monaca,Sudan,South Sudan and San Marino,hence they dont have estimations.\n",
    "2. We have 190 countries that do have BMI data and each of them has 126 entries.\n",
    "3. We have changed the data type of BMI and estimations to float.\n",
    "4. The descriptive statistics of BMI data seems OK, no outliers.\n",
    "5. We cleaned dataframe to analyze.\n",
    "\n",
    "Before we do any EDA, let's come up with some questions first. Question orientated is always a good way to explore a set of data, we could easily fall into rabbit holes we enconter along the process otherwise.\n",
    "\n",
    "**Following questions we could possibly answer through this data:**"
   ]
  },
  {
   "cell_type": "code",
   "execution_count": 17,
   "metadata": {},
   "outputs": [
    {
     "data": {
      "image/png": "[encoded data removed]",
      "text/plain": [
       "<Figure size 720x576 with 1 Axes>"
      ]
     },
     "metadata": {
      "needs_background": "light"
     },
     "output_type": "display_data"
    }
   ],
   "source": [
    "plt.figure(figsize=(10,8))\n",
    "sns.boxplot(data=df[numeric_cols])\n",
    "plt.show()"
   ]
  },
  {
   "cell_type": "code",
   "execution_count": 18,
   "metadata": {},
   "outputs": [
    {
     "data": {
      "text/html": [
       "<div>\n",
       "<style scoped>\n",
       "    .dataframe tbody tr th:only-of-type {\n",
       "        vertical-align: middle;\n",
       "    }\n",
       "\n",
       "    .dataframe tbody tr th {\n",
       "        vertical-align: top;\n",
       "    }\n",
       "\n",
       "    .dataframe thead th {\n",
       "        text-align: right;\n",
       "    }\n",
       "</style>\n",
       "<table border=\"1\" class=\"dataframe\">\n",
       "  <thead>\n",
       "    <tr style=\"text-align: right;\">\n",
       "      <th></th>\n",
       "      <th>Country</th>\n",
       "      <th>Year</th>\n",
       "      <th>Gender</th>\n",
       "      <th>BMI</th>\n",
       "      <th>BMI_lower</th>\n",
       "      <th>BMI_upper</th>\n",
       "    </tr>\n",
       "  </thead>\n",
       "  <tbody>\n",
       "    <tr>\n",
       "      <th>11</th>\n",
       "      <td>Bahamas</td>\n",
       "      <td>2016</td>\n",
       "      <td>both</td>\n",
       "      <td>31.6</td>\n",
       "      <td>25.6</td>\n",
       "      <td>37.8</td>\n",
       "    </tr>\n",
       "    <tr>\n",
       "      <th>39</th>\n",
       "      <td>Cook Islands</td>\n",
       "      <td>2016</td>\n",
       "      <td>both</td>\n",
       "      <td>55.9</td>\n",
       "      <td>50.2</td>\n",
       "      <td>61.5</td>\n",
       "    </tr>\n",
       "    <tr>\n",
       "      <th>53</th>\n",
       "      <td>Egypt</td>\n",
       "      <td>2016</td>\n",
       "      <td>both</td>\n",
       "      <td>32.0</td>\n",
       "      <td>27.6</td>\n",
       "      <td>36.6</td>\n",
       "    </tr>\n",
       "    <tr>\n",
       "      <th>60</th>\n",
       "      <td>Fiji</td>\n",
       "      <td>2016</td>\n",
       "      <td>both</td>\n",
       "      <td>30.2</td>\n",
       "      <td>24.5</td>\n",
       "      <td>36.0</td>\n",
       "    </tr>\n",
       "    <tr>\n",
       "      <th>81</th>\n",
       "      <td>Iraq</td>\n",
       "      <td>2016</td>\n",
       "      <td>both</td>\n",
       "      <td>30.4</td>\n",
       "      <td>25.5</td>\n",
       "      <td>35.5</td>\n",
       "    </tr>\n",
       "  </tbody>\n",
       "</table>\n",
       "</div>"
      ],
      "text/plain": [
       "         Country  Year Gender   BMI  BMI_lower  BMI_upper\n",
       "11       Bahamas  2016   both  31.6       25.6       37.8\n",
       "39  Cook Islands  2016   both  55.9       50.2       61.5\n",
       "53         Egypt  2016   both  32.0       27.6       36.6\n",
       "60          Fiji  2016   both  30.2       24.5       36.0\n",
       "81          Iraq  2016   both  30.4       25.5       35.5"
      ]
     },
     "execution_count": 18,
     "metadata": {},
     "output_type": "execute_result"
    }
   ],
   "source": [
    "obese_df = df[df['BMI']>=30]\n",
    "obese_df.head()"
   ]
  },
  {
   "cell_type": "markdown",
   "metadata": {},
   "source": [
    "#### 1. Which are the top obese (BMI>=30) countries?"
   ]
  },
  {
   "cell_type": "code",
   "execution_count": 19,
   "metadata": {},
   "outputs": [
    {
     "name": "stdout",
     "output_type": "stream",
     "text": [
      "Top 5 obese countries:\n",
      "    1. Nauru\n",
      "    2. Cook Islands\n",
      "    3. Palau\n",
      "    4. Marshall Islands\n",
      "    5. Tuvalu\n"
     ]
    }
   ],
   "source": [
    "mean_obesity = obese_df.groupby(['Country', 'Year'])['BMI'].mean().sort_values(ascending=False)\n",
    "mean_obesity.index = mean_obesity.index.get_level_values('Country')\n",
    "\n",
    "print('Top 5 obese countries:')\n",
    "for i, val in enumerate(mean_obesity.index.unique()[:5]):\n",
    "    print(f'    {i+1}. {val}')"
   ]
  },
  {
   "cell_type": "markdown",
   "metadata": {},
   "source": [
    "#### 2. What is the trend of obesity (BMI>=30) in countries over years?"
   ]
  },
  {
   "cell_type": "code",
   "execution_count": 20,
   "metadata": {},
   "outputs": [
    {
     "data": {
      "image/png": "[encoded data removed]",
      "text/plain": [
       "<Figure size 720x360 with 1 Axes>"
      ]
     },
     "metadata": {
      "needs_background": "light"
     },
     "output_type": "display_data"
    }
   ],
   "source": [
    "mean_obesity = obese_df.groupby(['Country', 'Year'])['BMI'].mean().sort_values(ascending=False)\n",
    "plt.figure(figsize=(10,5))\n",
    "sns.lineplot(data=mean_obesity, x=mean_obesity.index.get_level_values(1), y=mean_obesity.values)\n",
    "plt.show()"
   ]
  },
  {
   "cell_type": "code",
   "execution_count": 21,
   "metadata": {
    "scrolled": true
   },
   "outputs": [
    {
     "data": {
      "image/png": "[encoded data removed]",
      "text/plain": [
       "<Figure size 720x360 with 1 Axes>"
      ]
     },
     "metadata": {
      "needs_background": "light"
     },
     "output_type": "display_data"
    }
   ],
   "source": [
    "# Overall trend of BMI in counties over the years\n",
    "plt.figure(figsize=(10,5))\n",
    "sns.lineplot(data=df, x='Year', y='BMI')\n",
    "plt.show()"
   ]
  },
  {
   "cell_type": "markdown",
   "metadata": {},
   "source": [
    "#### 3. What is the gender distribution of obesity (BMI>=30) in countries?"
   ]
  },
  {
   "cell_type": "code",
   "execution_count": 22,
   "metadata": {},
   "outputs": [
    {
     "data": {
      "text/plain": [
       "Gender\n",
       "both      12.526917\n",
       "female    15.585226\n",
       "male       9.371855\n",
       "Name: BMI, dtype: float64"
      ]
     },
     "execution_count": 22,
     "metadata": {},
     "output_type": "execute_result"
    }
   ],
   "source": [
    "# Gender-wise mean BMI\n",
    "df.groupby(['Gender'])['BMI'].mean()"
   ]
  },
  {
   "cell_type": "code",
   "execution_count": 23,
   "metadata": {},
   "outputs": [
    {
     "data": {
      "text/plain": [
       "Gender\n",
       "both      40.369133\n",
       "female    40.156680\n",
       "male      39.648361\n",
       "Name: BMI, dtype: float64"
      ]
     },
     "execution_count": 23,
     "metadata": {},
     "output_type": "execute_result"
    }
   ],
   "source": [
    "# Gender-wise mean obesity\n",
    "obese_df.groupby(['Gender'])['BMI'].mean()"
   ]
  },
  {
   "cell_type": "markdown",
   "metadata": {},
   "source": [
    "#### 4. What is the trend of gender-wise obesity (BMI>=30) in countries over years?"
   ]
  },
  {
   "cell_type": "code",
   "execution_count": 24,
   "metadata": {},
   "outputs": [
    {
     "data": {
      "text/html": [
       "<div>\n",
       "<style scoped>\n",
       "    .dataframe tbody tr th:only-of-type {\n",
       "        vertical-align: middle;\n",
       "    }\n",
       "\n",
       "    .dataframe tbody tr th {\n",
       "        vertical-align: top;\n",
       "    }\n",
       "\n",
       "    .dataframe thead th {\n",
       "        text-align: right;\n",
       "    }\n",
       "</style>\n",
       "<table border=\"1\" class=\"dataframe\">\n",
       "  <thead>\n",
       "    <tr style=\"text-align: right;\">\n",
       "      <th>Gender</th>\n",
       "      <th>both</th>\n",
       "      <th>female</th>\n",
       "      <th>male</th>\n",
       "    </tr>\n",
       "    <tr>\n",
       "      <th>Year</th>\n",
       "      <th></th>\n",
       "      <th></th>\n",
       "      <th></th>\n",
       "    </tr>\n",
       "  </thead>\n",
       "  <tbody>\n",
       "    <tr>\n",
       "      <th>1975</th>\n",
       "      <td>44.50</td>\n",
       "      <td>38.950000</td>\n",
       "      <td>38.2</td>\n",
       "    </tr>\n",
       "    <tr>\n",
       "      <th>1976</th>\n",
       "      <td>45.00</td>\n",
       "      <td>39.550000</td>\n",
       "      <td>38.6</td>\n",
       "    </tr>\n",
       "    <tr>\n",
       "      <th>1977</th>\n",
       "      <td>45.40</td>\n",
       "      <td>40.150000</td>\n",
       "      <td>39.1</td>\n",
       "    </tr>\n",
       "    <tr>\n",
       "      <th>1978</th>\n",
       "      <td>38.00</td>\n",
       "      <td>40.700000</td>\n",
       "      <td>39.6</td>\n",
       "    </tr>\n",
       "    <tr>\n",
       "      <th>1979</th>\n",
       "      <td>34.35</td>\n",
       "      <td>37.583333</td>\n",
       "      <td>40.0</td>\n",
       "    </tr>\n",
       "  </tbody>\n",
       "</table>\n",
       "</div>"
      ],
      "text/plain": [
       "Gender   both     female  male\n",
       "Year                          \n",
       "1975    44.50  38.950000  38.2\n",
       "1976    45.00  39.550000  38.6\n",
       "1977    45.40  40.150000  39.1\n",
       "1978    38.00  40.700000  39.6\n",
       "1979    34.35  37.583333  40.0"
      ]
     },
     "execution_count": 24,
     "metadata": {},
     "output_type": "execute_result"
    }
   ],
   "source": [
    "gender_bmi_df = obese_df.groupby(['Year', 'Gender'])['BMI'].mean().unstack()\n",
    "gender_bmi_df.head()"
   ]
  },
  {
   "cell_type": "code",
   "execution_count": 25,
   "metadata": {},
   "outputs": [
    {
     "data": {
      "image/png": "[encoded data removed]",
      "text/plain": [
       "<Figure size 720x360 with 1 Axes>"
      ]
     },
     "metadata": {
      "needs_background": "light"
     },
     "output_type": "display_data"
    }
   ],
   "source": [
    "gender_bmi_df.plot.line(figsize=(10, 5), marker=\"*\", label=True)\n",
    "plt.show()"
   ]
  }
 ],
 "metadata": {
  "kernelspec": {
   "display_name": "Python 3",
   "language": "python",
   "name": "python3"
  },
  "language_info": {
   "codemirror_mode": {
    "name": "ipython",
    "version": 3
   },
   "file_extension": ".py",
   "mimetype": "text/x-python",
   "name": "python",
   "nbconvert_exporter": "python",
   "pygments_lexer": "ipython3",
   "version": "3.6.10"
  }
 },
 "nbformat": 4,
 "nbformat_minor": 4
}
