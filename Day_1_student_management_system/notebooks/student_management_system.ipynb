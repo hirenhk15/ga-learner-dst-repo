{
 "cells": [
  {
   "cell_type": "markdown",
   "metadata": {},
   "source": [
    "## Problem Statement\n",
    "\n",
    "You have been hired by the University of Data Science to manage their students' records.  Your job is to create the student management system for the university. Let's try to build the system using basic Python operations.\n",
    "\n",
    "\n",
    "## Why solve this project?\n",
    "\n",
    "After completing this project, you will get to know how to solve basic Python problems. In this project, you will be applying the following concepts:\n",
    "\n",
    "* Mathematical operations\n",
    "* List operations\n",
    "* Dictionary operations \n",
    "* String indexing and formatting"
   ]
  },
  {
   "cell_type": "markdown",
   "metadata": {},
   "source": [
    "## Student Management System\n",
    "**Managing student records effectively**\n",
    "\n",
    "Things needed on a student:\n",
    "1. Name\n",
    "2. DOB\n",
    "3. Geneder\n",
    "4. Course ID\n",
    "5. Phone Number\n",
    "6. Email\n",
    "7. Admission Year\n",
    "8. Student ID\n",
    "9. Highest Qualification\n",
    "10. Course Mode\n",
    "\n",
    "What operations do we need to perform?\n",
    "1. Enter the details\n",
    "2. Modify the details\n",
    "3. Delete the details\n",
    "4. Search the detaols\n",
    "5. Basic analysis (Make this data structured)\n",
    "6. Adding more fields (Flexibility)\n",
    "7. Getting reports / Information"
   ]
  },
  {
   "cell_type": "markdown",
   "metadata": {},
   "source": [
    "### Task 1\n",
    "\n",
    "**Let's create a new register by combining data from two classes while making some modifications to the register.\n",
    "Instructions:**\n",
    "\n",
    "   * Create a 'class_1' list and pass the elements 'Geoffrey Hinton','Andrew Ng','Sebastian Raschka','Yoshua Bengio'.\n",
    "\n",
    "   * Create a 'class_2' list and pass the elements 'Hilary Mason','Carla Gentry','Corinna Cortes'.\n",
    "\n",
    "   * Concatenate the 'class_1' and 'class_2' list. Store the values in a'new_class' variable.\n",
    "\n",
    "   * Print the 'new_class' variable to see the new list.\n",
    "\n",
    "You can now see the students list.\n"
   ]
  },
  {
   "cell_type": "code",
   "execution_count": 9,
   "metadata": {
    "scrolled": true
   },
   "outputs": [
    {
     "data": {
      "text/plain": [
       "['Geoffrey Hinton',\n",
       " 'Andrew Ng',\n",
       " 'Sebastian Raschka',\n",
       " 'Yoshua Bengio',\n",
       " 'Hilary Mason',\n",
       " 'Carla Gentry',\n",
       " 'Corinna Cortes']"
      ]
     },
     "execution_count": 9,
     "metadata": {},
     "output_type": "execute_result"
    }
   ],
   "source": [
    "class_1 = ['Geoffrey Hinton', 'Andrew Ng', 'Sebastian Raschka', 'Yoshua Bengio']\n",
    "class_2 = ['Hilary Mason', 'Carla Gentry', 'Corinna Cortes']\n",
    "\n",
    "new_class = class_1 + class_2\n",
    "new_class"
   ]
  },
  {
   "cell_type": "markdown",
   "metadata": {},
   "source": [
    "### Task 2\n",
    "\n",
    "Oops! Looks like we might have missed a student whose name is Peter Warden. Let's add him in the new register.\n",
    "\n",
    "   * Add new element 'Peter Warden' in the 'new_class' list.\n",
    "\n",
    "   * Print 'new_class' to see the updated list.\n"
   ]
  },
  {
   "cell_type": "code",
   "execution_count": 11,
   "metadata": {},
   "outputs": [
    {
     "data": {
      "text/plain": [
       "['Geoffrey Hinton',\n",
       " 'Andrew Ng',\n",
       " 'Sebastian Raschka',\n",
       " 'Yoshua Bengio',\n",
       " 'Hilary Mason',\n",
       " 'Carla Gentry',\n",
       " 'Corinna Cortes',\n",
       " 'Peter Warden']"
      ]
     },
     "execution_count": 11,
     "metadata": {},
     "output_type": "execute_result"
    }
   ],
   "source": [
    "new_class.append('Peter Warden')\n",
    "new_class"
   ]
  },
  {
   "cell_type": "markdown",
   "metadata": {},
   "source": [
    "### Task 3\n",
    "\n",
    "It seems like there could also be a wrong entry in the list whose name is Carla Gentry. Let's remove her from the register.\n",
    "\n",
    "   * Remove the 'Carla Gentry'element from the 'new_class' list.\n",
    "\n",
    "   * Print 'new_class' to see the updated list.\n"
   ]
  },
  {
   "cell_type": "code",
   "execution_count": 13,
   "metadata": {},
   "outputs": [],
   "source": [
    "new_class.remove('Carla Gentry')"
   ]
  },
  {
   "cell_type": "code",
   "execution_count": 14,
   "metadata": {},
   "outputs": [
    {
     "data": {
      "text/plain": [
       "['Geoffrey Hinton',\n",
       " 'Andrew Ng',\n",
       " 'Sebastian Raschka',\n",
       " 'Yoshua Bengio',\n",
       " 'Hilary Mason',\n",
       " 'Corinna Cortes',\n",
       " 'Peter Warden']"
      ]
     },
     "execution_count": 14,
     "metadata": {},
     "output_type": "execute_result"
    }
   ],
   "source": [
    "new_class"
   ]
  },
  {
   "cell_type": "markdown",
   "metadata": {},
   "source": [
    "### Task 4\n",
    "\n",
    "**Let's create a dictionary for `Geoffrey Hinton` in each subject to generate his progress report.** \n",
    "\n",
    "\n",
    "\n",
    "#### Instructions\n",
    "\n",
    "* Create a dictionary named `'courses'` using the keys and values given below\n",
    "\n",
    "\n",
    "|course|marks|\n",
    "|-----|-----|\n",
    "|Math|65|\n",
    "|English|70|\n",
    "|History|80|\n",
    "|French|70|\n",
    "|Science|60|\n",
    "\n",
    "\n",
    "\n",
    "\n",
    "\n",
    "* See the marks obtained in each subject.\n",
    " \n",
    "* Add all the marks scored out of 100 and store it in a variable named `'total'`.\n",
    "\n",
    "\n",
    "* Print `'total'`.\n",
    "\n",
    "\n",
    "* Calculate the `'percentage'` scored by `'Geoffrey Hinton'` where addition of all the subjects is `500`.\n",
    "\n",
    "\n",
    "* Print the `'percentage'`.\n",
    "\n"
   ]
  },
  {
   "cell_type": "code",
   "execution_count": 16,
   "metadata": {},
   "outputs": [
    {
     "data": {
      "text/plain": [
       "{'Math': 65, 'English': 70, 'History': 80, 'French': 70, 'Science': 60}"
      ]
     },
     "execution_count": 16,
     "metadata": {},
     "output_type": "execute_result"
    }
   ],
   "source": [
    "courses = {\n",
    "    'Math': 65, \n",
    "    'English': 70, \n",
    "    'History': 80,\n",
    "    'French': 70,\n",
    "    'Science': 60\n",
    "}\n",
    "courses"
   ]
  },
  {
   "cell_type": "code",
   "execution_count": 20,
   "metadata": {},
   "outputs": [
    {
     "data": {
      "text/plain": [
       "345"
      ]
     },
     "execution_count": 20,
     "metadata": {},
     "output_type": "execute_result"
    }
   ],
   "source": [
    "total = sum(courses.values())\n",
    "total"
   ]
  },
  {
   "cell_type": "code",
   "execution_count": 22,
   "metadata": {},
   "outputs": [
    {
     "data": {
      "text/plain": [
       "69.0"
      ]
     },
     "execution_count": 22,
     "metadata": {},
     "output_type": "execute_result"
    }
   ],
   "source": [
    "percentage = (total / 500) * 100\n",
    "percentage"
   ]
  },
  {
   "cell_type": "markdown",
   "metadata": {},
   "source": [
    "### Task 5\n",
    "\n",
    "**For the student who got the highest marks in this subject, the school has decided to award a scholarship.\n",
    "Let's check who performed best in mathematics from all the students who appeared for the test.**\n",
    "\n",
    "#### Instructions\n",
    "\n",
    "* Create a dictionary named `'mathematics'` using the keys and values given below.\n",
    "\n",
    "\n",
    "|student|marks|\n",
    "|-----|-----|\n",
    "|Geoffrey Hinton|78|\n",
    "|Andrew Ng|95|\n",
    "|Sebastian Raschka|65|\n",
    "|Yoshua Benjio|50|\n",
    "|Hilary Mason|70|\n",
    "|Corinna Cortes|66|\n",
    "|Peter Warden|75|\n",
    "\n",
    "\n",
    "***\n",
    "\n",
    "    Example of max function:\n",
    "\n",
    "~~~python\n",
    "\n",
    "# calculate the max value\n",
    "\n",
    "max_marks_scored = max(courses,key = courses.get)\n",
    "print (max_marks_scored)\n",
    "\n",
    "~~~\n",
    "\n",
    "**Output**\n",
    "\n",
    "~~~python\n",
    "History\n",
    "~~~\n",
    "    \n",
    "\n",
    "***\n",
    "\n",
    "\n",
    "\n",
    "* Find out the student with the highest marks in Mathematics and store it in a variable `'topper'`."
   ]
  },
  {
   "cell_type": "code",
   "execution_count": 24,
   "metadata": {},
   "outputs": [
    {
     "data": {
      "text/plain": [
       "{'Geoffrey Hinton': 78,\n",
       " 'Andrew Ng': 95,\n",
       " 'Sebastian Raschka': 65,\n",
       " 'Yoshua Benjio': 50,\n",
       " 'Hilary Mason': 70,\n",
       " 'Corinna Cortes': 66,\n",
       " 'Peter Warden': 75}"
      ]
     },
     "execution_count": 24,
     "metadata": {},
     "output_type": "execute_result"
    }
   ],
   "source": [
    "mathematics = {\n",
    "    'Geoffrey Hinton': 78,\n",
    "    'Andrew Ng' : 95,\n",
    "    'Sebastian Raschka': 65,\n",
    "    'Yoshua Benjio': 50,\n",
    "    'Hilary Mason': 70,\n",
    "    'Corinna Cortes': 66,\n",
    "    'Peter Warden': 75\n",
    "}\n",
    "mathematics"
   ]
  },
  {
   "cell_type": "code",
   "execution_count": 35,
   "metadata": {},
   "outputs": [
    {
     "data": {
      "text/plain": [
       "'Andrew Ng'"
      ]
     },
     "execution_count": 35,
     "metadata": {},
     "output_type": "execute_result"
    }
   ],
   "source": [
    "topper = max(mathematics, key=mathematics.get)\n",
    "topper"
   ]
  },
  {
   "cell_type": "markdown",
   "metadata": {},
   "source": [
    "### Task 6\n",
    "\n",
    "**From the previous task, we know who is the 'Maths' topper in the class. You now have to print the name of the student on the certificate, but you will have to print his last name and then his first name.** \n",
    "\n",
    "\n",
    "## Instructions\n",
    "\n",
    "* String name `'topper'` with the Math topper's name is given.\n",
    "\n",
    "\n",
    "* Split the `'topper'` using the `\"split()\"` function and store the results in `'first_name'` and `'last_name'`.\n",
    "\n",
    "***\n",
    "\n",
    "    Example of split function:\n",
    "\n",
    "~~~python\n",
    "\n",
    "Quote = \" I love data \"\n",
    "\n",
    "# To split the words of a sentence\n",
    "print('-'*20)\n",
    "\n",
    "# To access one word based on index\n",
    "print(Quote.split()[2])\n",
    "\n",
    "~~~\n",
    "\n",
    "**Output**\n",
    "\n",
    "~~~python\n",
    "['I', 'love', 'data']\n",
    "--------------------\n",
    "data\n",
    "\n",
    "~~~\n",
    "\n",
    "    \n",
    "\n",
    "\n",
    "***\n",
    "\n",
    "\n",
    "*  Display the full name concatenating `+` the strings `'last_name'` and `'first_name'` strings. Don't forget to add a whitespace character between them to avoid displaying them together and store it in a `full_name` variable .\n",
    "\n",
    "\n",
    "* Convert all the elements in the `'full_name'`string to uppercase, and store it to the `'certificate_name'` variable.\n",
    "\n",
    "\n",
    "* Print `'certificate_name'`."
   ]
  },
  {
   "cell_type": "code",
   "execution_count": 46,
   "metadata": {},
   "outputs": [],
   "source": [
    "first_name, last_name = topper.split()"
   ]
  },
  {
   "cell_type": "code",
   "execution_count": 47,
   "metadata": {},
   "outputs": [
    {
     "data": {
      "text/plain": [
       "'Ng Andrew'"
      ]
     },
     "execution_count": 47,
     "metadata": {},
     "output_type": "execute_result"
    }
   ],
   "source": [
    "full_name = last_name + ' ' + first_name\n",
    "full_name"
   ]
  },
  {
   "cell_type": "code",
   "execution_count": 48,
   "metadata": {},
   "outputs": [
    {
     "data": {
      "text/plain": [
       "'NG ANDREW'"
      ]
     },
     "execution_count": 48,
     "metadata": {},
     "output_type": "execute_result"
    }
   ],
   "source": [
    "certificate_name = full_name.upper()\n",
    "certificate_name"
   ]
  }
 ],
 "metadata": {
  "kernelspec": {
   "display_name": "Python 3",
   "language": "python",
   "name": "python3"
  },
  "language_info": {
   "codemirror_mode": {
    "name": "ipython",
    "version": 3
   },
   "file_extension": ".py",
   "mimetype": "text/x-python",
   "name": "python",
   "nbconvert_exporter": "python",
   "pygments_lexer": "ipython3",
   "version": "3.7.6"
  }
 },
 "nbformat": 4,
 "nbformat_minor": 4
}
